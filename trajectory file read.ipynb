{
 "cells": [
  {
   "cell_type": "code",
   "execution_count": 4,
   "id": "d4a38f13",
   "metadata": {},
   "outputs": [],
   "source": [
    "import or_suite\n",
    "import pickle as pd"
   ]
  },
  {
   "cell_type": "code",
   "execution_count": 5,
   "id": "0c8f2764",
   "metadata": {},
   "outputs": [],
   "source": [
    "file = open(\"../data/rideshare_maxweightfixed_9/trajectory.obj\", \"rb\")\n",
    "x = pd.load(file)"
   ]
  },
  {
   "cell_type": "code",
   "execution_count": 7,
   "id": "5671db74",
   "metadata": {},
   "outputs": [
    {
     "data": {
      "text/plain": [
       "{'iter': 0,\n",
       " 'episode': 0,\n",
       " 'step': 0,\n",
       " 'oldState': array([0, 0, 3, 0, 3, 3, 0, 0, 0, 0, 0, 0, 0, 0, 0, 0, 0, 0, 0, 0, 0, 0,\n",
       "        0, 0, 0, 0, 6, 0]),\n",
       " 'action': 4,\n",
       " 'reward': 0.0,\n",
       " 'newState': array([0, 0, 3, 0, 3, 3, 0, 0, 0, 0, 0, 0, 0, 0, 0, 0, 0, 0, 0, 0, 0, 0,\n",
       "        0, 0, 0, 0, 3, 5]),\n",
       " 'info': {'request': array([3, 5]), 'acceptance': False}}"
      ]
     },
     "execution_count": 7,
     "metadata": {},
     "output_type": "execute_result"
    }
   ],
   "source": [
    "x[0]"
   ]
  },
  {
   "cell_type": "code",
   "execution_count": 11,
   "id": "c3b35d1e",
   "metadata": {},
   "outputs": [
    {
     "name": "stdout",
     "output_type": "stream",
     "text": [
      "1\n"
     ]
    }
   ],
   "source": [
    "if not x[1]['info']['acceptance']: print(1)"
   ]
  },
  {
   "cell_type": "code",
   "execution_count": null,
   "id": "9e82e25b",
   "metadata": {},
   "outputs": [],
   "source": []
  }
 ],
 "metadata": {
  "kernelspec": {
   "display_name": "Python 3 (ipykernel)",
   "language": "python",
   "name": "python3"
  },
  "language_info": {
   "codemirror_mode": {
    "name": "ipython",
    "version": 3
   },
   "file_extension": ".py",
   "mimetype": "text/x-python",
   "name": "python",
   "nbconvert_exporter": "python",
   "pygments_lexer": "ipython3",
   "version": "3.8.5"
  }
 },
 "nbformat": 4,
 "nbformat_minor": 5
}
