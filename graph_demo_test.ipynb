{
 "cells": [
  {
   "cell_type": "code",
   "execution_count": 1,
   "id": "entire-vinyl",
   "metadata": {},
   "outputs": [],
   "source": [
    "import or_suite\n",
    "\n",
    "# https://docs.python.org/3/library/tkinter.html\n",
    "# other option for package\n",
    "import networkx as nx\n",
    "import pyglet\n",
    "import os, sys\n",
    "import gym\n",
    "import numpy as np"
   ]
  },
  {
   "cell_type": "code",
   "execution_count": 2,
   "id": "corporate-guard",
   "metadata": {},
   "outputs": [],
   "source": [
    "graph = [(0,4,{'travel_time':7}), (0,1,{'travel_time':1}), (1,2,{'travel_time':3}), (2,3,{'travel_time':5}), (1,3,{'travel_time':1}), (1,4,{'travel_time':17}), (3,4,{'travel_time':3})]\n",
    "graph = nx.Graph(graph)"
   ]
  },
  {
   "cell_type": "code",
   "execution_count": 3,
   "id": "conscious-bride",
   "metadata": {},
   "outputs": [
    {
     "name": "stdout",
     "output_type": "stream",
     "text": [
      "{0: array([-1.00000000e+00, -8.74227766e-08]), 4: array([-0.30901709, -0.95105648]), 1: array([ 0.80901724, -0.58778495]), 2: array([0.809017  , 0.58778524]), 3: array([-0.30901745,  0.95105636])}\n"
     ]
    },
    {
     "name": "stderr",
     "output_type": "stream",
     "text": [
      "C:\\Users\\Jiaol\\anaconda3\\lib\\site-packages\\pyglet\\image\\codecs\\wic.py:289: UserWarning: [WinError -2147417850] Cannot change thread mode after it is set\n",
      "  warnings.warn(str(err))\n"
     ]
    },
    {
     "data": {
      "image/png": "[encoded data removed]",
      "text/plain": [
       "<Figure size 432x288 with 1 Axes>"
      ]
     },
     "metadata": {},
     "output_type": "display_data"
    }
   ],
   "source": [
    "# One option:\n",
    "\"\"\"\n",
    "    - how to label the nodes: https://networkx.org/documentation/stable/reference/generated/networkx.drawing.nx_pylab.draw_networkx_labels.html\n",
    "    - how to display the ambulances / calls: self.viewer.image(line_x1 + (line_x2 - line_x1)\n",
    "                              * loc, line_y, ambulance, 0.02)\n",
    "    - how to display the graph through the render\n",
    "\"\"\"\n",
    "import matplotlib.pyplot as plt\n",
    "\n",
    "\n",
    "pos = nx.shell_layout(graph)\n",
    "print(pos)\n",
    "\n",
    "fig, ax = plt.subplots()\n",
    "nx.draw(graph, pos, node_size=200, with_labels = True, edge_color=\"white\", node_color=\"lightblue\", font_color=\"black\")\n",
    "fig.set_facecolor('black')\n",
    "ambulance = pyglet.image.load('./or_suite/envs/ambulance/images/ambulance.jpg')\n"
   ]
  },
  {
   "cell_type": "code",
   "execution_count": 5,
   "id": "77558576",
   "metadata": {},
   "outputs": [
    {
     "data": {
      "image/png": "[encoded data removed]",
      "text/plain": [
       "<Figure size 432x288 with 1 Axes>"
      ]
     },
     "metadata": {
      "needs_background": "light"
     },
     "output_type": "display_data"
    }
   ],
   "source": [
    "# Setting up viewer and rendering for the environment to test adding on the ambulances\n",
    "\n",
    "from IPython import display as ipythondisplay\n",
    "import rendering\n",
    "import matplotlib.pyplot as plt\n",
    "import time\n",
    "\n",
    "CONFIG = {'epLen': 5,\n",
    "    'arrival_dist': lambda step, num_nodes: np.full(num_nodes, 1/num_nodes),\n",
    "    'alpha': 0.25,\n",
    "    'from_data': False,\n",
    "    'edges': [(0,4,{'travel_time':7}), (0,1,{'travel_time':1}), (1,2,{'travel_time':3}), (2,3,{'travel_time':5}), (1,3,{'travel_time':1}), (1,4,{'travel_time':17}), (3,4,{'travel_time':3})],\n",
    "    'starting_state': [1,2], 'num_ambulance': 2\n",
    "}\n",
    "\n",
    "alpha = CONFIG['alpha']\n",
    "epLen = CONFIG['epLen']\n",
    "state = CONFIG['starting_state']\n",
    "edges = CONFIG['edges']\n",
    "num_nodes = len(nx.Graph(edges))\n",
    "num_ambulance = CONFIG['num_ambulance']\n",
    "\n",
    "\n",
    "def display_animation(screen, time_to_display):\n",
    "    plt.imshow(screen)\n",
    "    ipythondisplay.clear_output(wait=True)\n",
    "    if time_to_display is not None:\n",
    "        ipythondisplay.display(plt.gcf())\n",
    "        time.sleep(time_to_display)\n",
    "\n",
    "def greedy(state, timestep, epsilon=0):\n",
    "    \"\"\"\n",
    "    The user is prompted to choose an action by choosing a new location for each ambulance.\n",
    "    \"\"\"\n",
    "    num_ambulance = len(state)\n",
    "    action = np.zeros(num_ambulance)\n",
    "    for ambulance in range(num_ambulance):\n",
    "        done = False\n",
    "        while(not done):\n",
    "            text = \"Where do you want to position ambulance \" + str(ambulance+1) + \"? (choose a node from 0 to \" + str(num_nodes-1) + \")\\n\"\n",
    "            new_loc = input(text)\n",
    "            try:\n",
    "                new_loc = float(new_loc)\n",
    "                if new_loc < 0 or new_loc > num_nodes-1:\n",
    "                    raise ValueError\n",
    "                action[ambulance] = new_loc\n",
    "                done = True\n",
    "            except ValueError:\n",
    "                print(\"Please enter a number between 0 and \"+ str(num_nodes-1))\n",
    "\n",
    "    return action\n",
    "        \n",
    "env = gym.make('Ambulance-v1', config=CONFIG)\n",
    "env.reset()\n",
    "done = False\n",
    "\n",
    "\n",
    "while not done:\n",
    "    env.step(greedy(state, 0))\n",
    "\n",
    "    env.viewer = rendering.PygletWindow(850, 550)\n",
    "    env.viewer.window.set_visible(False)\n",
    "\n",
    "    screen1, screen2, screen3 = env.render(mode='rgb_array')\n",
    "\n",
    "    # display each step of the environment for 2 seconds\n",
    "    display_animation(screen1, 2)\n",
    "    display_animation(screen2, 2)\n",
    "    display_animation(screen3, None)\n",
    "    \n",
    "#if not done:\n",
    "#    cont = \"\"\n",
    "#    while cont != \"n\" and cont != \"y\":\n",
    "#        cont = input(\"Continue? [y/n]\")\n",
    "#        if cont.lower() == \"n\":\n",
    "#            done = True\n",
    "#            break\n",
    "#        elif cont.lower() == \"y\":\n",
    "#            done = False"
   ]
  },
  {
   "cell_type": "code",
   "execution_count": null,
   "id": "ca291308",
   "metadata": {},
   "outputs": [],
   "source": []
  },
  {
   "cell_type": "code",
   "execution_count": null,
   "id": "34c6f131",
   "metadata": {},
   "outputs": [],
   "source": []
  }
 ],
 "metadata": {
  "kernelspec": {
   "display_name": "Python 3",
   "language": "python",
   "name": "python3"
  },
  "language_info": {
   "codemirror_mode": {
    "name": "ipython",
    "version": 3
   },
   "file_extension": ".py",
   "mimetype": "text/x-python",
   "name": "python",
   "nbconvert_exporter": "python",
   "pygments_lexer": "ipython3",
   "version": "3.8.8"
  }
 },
 "nbformat": 4,
 "nbformat_minor": 5
}
