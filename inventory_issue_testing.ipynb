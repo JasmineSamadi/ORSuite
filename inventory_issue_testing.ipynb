{
 "cells": [
  {
   "cell_type": "code",
   "execution_count": null,
   "id": "54262089",
   "metadata": {},
   "outputs": [],
   "source": [
    "import or_suite\n",
    "import numpy as np\n",
    "\n",
    "import copy\n",
    "\n",
    "import os\n",
    "from stable_baselines3.common.monitor import Monitor\n",
    "from stable_baselines3 import PPO\n",
    "from stable_baselines3.ppo import MlpPolicy\n",
    "from stable_baselines3.common.env_util import make_vec_env\n",
    "from stable_baselines3.common.evaluation import evaluate_policy\n",
    "import pandas as pd\n",
    "\n",
    "\n",
    "import gym"
   ]
  },
  {
   "cell_type": "markdown",
   "id": "65a0df0a",
   "metadata": {},
   "source": [
    "## Set Global Parameters for Experiments"
   ]
  },
  {
   "cell_type": "code",
   "execution_count": null,
   "id": "5c25a9c8",
   "metadata": {},
   "outputs": [],
   "source": [
    "neg_inventory = False\n",
    "epLen = 10\n",
    "nEps = 2\n",
    "numIters = 10"
   ]
  },
  {
   "cell_type": "markdown",
   "id": "74e0ddbf",
   "metadata": {},
   "source": [
    "### Two Suppliers"
   ]
  },
  {
   "cell_type": "code",
   "execution_count": null,
   "id": "exclusive-roots",
   "metadata": {},
   "outputs": [],
   "source": [
    "CONFIG =  or_suite.envs.env_configs.inventory_control_multiple_suppliers_modified_config\n",
    "CONFIG['neg_inventory'] = neg_inventory\n",
    "CONFIG['demand_dist'] = lambda x: np.random.poisson(10)\n",
    "# CONFIG['demand_dist'] = lambda x: 10\n",
    "# CONFIG = or_suite.envs.env_configs.oil_environment_default_config\n",
    "CONFIG['epLen'] = epLen\n",
    "print(epLen)\n"
   ]
  },
  {
   "cell_type": "code",
   "execution_count": null,
   "id": "noticed-keyboard",
   "metadata": {},
   "outputs": [],
   "source": [
    "DEFAULT_SETTINGS = {'seed': 1, \n",
    "                    'recFreq': 1, \n",
    "                    'dirPath': '../data/ambulance/', \n",
    "                    'deBug': False, \n",
    "                    'nEps': nEps, \n",
    "                    'numIters': numIters, \n",
    "                    'saveTrajectory': True, \n",
    "                    'epLen' : CONFIG['epLen'],\n",
    "                    'render': False,\n",
    "                    'pickle': False\n",
    "                    }\n",
    "\n",
    "env = gym.make('MultipleSuppliers-v0', config=CONFIG)\n",
    "mon_env = Monitor(env)"
   ]
  },
  {
   "cell_type": "code",
   "execution_count": null,
   "id": "comprehensive-amplifier",
   "metadata": {},
   "outputs": [],
   "source": [
    "agents = { # 'SB PPO': PPO(MlpPolicy, mon_env, gamma=1, verbose=0, n_steps=epLen),\n",
    "#'Random': or_suite.agents.rl.random.randomAgent(),\n",
    "'ZeroTen': or_suite.agents.inventory_control_multiple_suppliers.base_surge.base_surgeAgent([0],10),\n",
    "'TenZero': or_suite.agents.inventory_control_multiple_suppliers.base_surge.base_surgeAgent([10],0),\n",
    "'TBS': or_suite.agents.inventory_control_multiple_suppliers.base_surge.base_surgeAgent([0],0)\n",
    "}"
   ]
  },
  {
   "cell_type": "code",
   "execution_count": null,
   "id": "honest-equipment",
   "metadata": {},
   "outputs": [],
   "source": [
    "path_list_line = []\n",
    "algo_list_line = []\n",
    "path_list_radar = []\n",
    "algo_list_radar= []\n",
    "\n",
    "#each index of param_list is another list, param, where param[0] is r and param[1] is S\n",
    "max_order = CONFIG['max_order']\n",
    "param_list = []\n",
    "for r in range(max_order+1):\n",
    "    for S in range(max_order + 1):\n",
    "        param_list.append([[r],S])\n",
    "#param_list = [[[10], 0], [[0],10]]\n",
    "        \n",
    "for agent in agents:\n",
    "    print(agent)\n",
    "    DEFAULT_SETTINGS['dirPath'] = '../data/inventory_control_'+str(agent)+'/'\n",
    "    if agent == 'SB PPO':\n",
    "        or_suite.utils.run_single_sb_algo(mon_env, agents[agent], DEFAULT_SETTINGS)\n",
    "    elif agent == 'TBS':\n",
    "        or_suite.utils.run_single_algo_tune(env, agents[agent], param_list, DEFAULT_SETTINGS)\n",
    "    else:\n",
    "        or_suite.utils.run_single_algo(env, agents[agent], DEFAULT_SETTINGS)\n",
    "\n",
    "    path_list_line.append('../data/inventory_control_'+str(agent))\n",
    "    algo_list_line.append(str(agent))\n",
    "    if agent != 'SB PPO':\n",
    "        path_list_radar.append('../data/inventory_control_'+str(agent))\n",
    "        algo_list_radar.append(str(agent))"
   ]
  },
  {
   "cell_type": "code",
   "execution_count": null,
   "id": "a4cdd7df",
   "metadata": {},
   "outputs": [],
   "source": [
    "fig_path = '../figures/'\n",
    "fig_name = 'inventory'+'_line_plot'+'.pdf'\n",
    "or_suite.plots.plot_line_plots(path_list_line, algo_list_line, fig_path, fig_name, int(nEps / 40)+1)\n",
    "\n",
    "additional_metric = {}\n",
    "fig_name = 'inventory'+'_radar_plot'+'.pdf'\n",
    "or_suite.plots.plot_radar_plots(path_list_radar, algo_list_radar,\n",
    "fig_path, fig_name,\n",
    "additional_metric\n",
    ")\n",
    "\n",
    "# TODO: Import figures and display\n"
   ]
  },
  {
   "cell_type": "markdown",
   "id": "f213d856",
   "metadata": {},
   "source": [
    "###  One Supplier"
   ]
  },
  {
   "cell_type": "code",
   "execution_count": null,
   "id": "09c3dd13",
   "metadata": {},
   "outputs": [],
   "source": [
    "CONFIG = {'lead_times': [5],\n",
    "           'demand_dist': lambda x: np.random.poisson(10),\n",
    "           'supplier_costs': [1],\n",
    "           'hold_cost': 1,\n",
    "           'backorder_cost': 10,\n",
    "           'max_inventory': 1000,\n",
    "           'max_order': 200,\n",
    "           'epLen': 500,\n",
    "           'starting_state': None,\n",
    "           'neg_inventory': neg_inventory}\n",
    "CONFIG['epLen'] = 100\n",
    "epLen = CONFIG['epLen']\n",
    "nEps = 2\n",
    "numIters = 10"
   ]
  },
  {
   "cell_type": "code",
   "execution_count": null,
   "id": "7567cc36",
   "metadata": {},
   "outputs": [],
   "source": [
    "DEFAULT_SETTINGS = {'seed': 1, \n",
    "                    'recFreq': 1, \n",
    "                    'dirPath': '../data/ambulance/', \n",
    "                    'deBug': False, \n",
    "                    'nEps': nEps, \n",
    "                    'numIters': numIters, \n",
    "                    'saveTrajectory': True, \n",
    "                    'epLen' : CONFIG['epLen'],\n",
    "                    'render': False,\n",
    "                    'pickle': False\n",
    "                    }\n",
    "\n",
    "env = gym.make('MultipleSuppliers-v0', config=CONFIG)\n",
    "mon_env = Monitor(env)"
   ]
  },
  {
   "cell_type": "code",
   "execution_count": null,
   "id": "26963ae2",
   "metadata": {},
   "outputs": [],
   "source": [
    "agents = { # 'SB PPO': PPO(MlpPolicy, mon_env, gamma=1, verbose=0, n_steps=epLen),\n",
    "'Random': or_suite.agents.rl.random.randomAgent(),\n",
    "'TBS': or_suite.agents.inventory_control_multiple_suppliers.base_surge.base_surgeAgent([],0)\n",
    "}"
   ]
  },
  {
   "cell_type": "code",
   "execution_count": null,
   "id": "8f85ae8b",
   "metadata": {
    "scrolled": true
   },
   "outputs": [],
   "source": [
    "path_list_line = []\n",
    "algo_list_line = []\n",
    "path_list_radar = []\n",
    "algo_list_radar= []\n",
    "\n",
    "#each index of param_list is another list, param, where param[0] is r and param[1] is S\n",
    "max_order = CONFIG['max_order']\n",
    "param_list = []\n",
    "for S in range(max_order + 1):\n",
    "        param_list.append([[], S])\n",
    "        \n",
    "for agent in agents:\n",
    "    print(agent)\n",
    "    DEFAULT_SETTINGS['dirPath'] = '../data/inventory_control_'+str(agent)+'/'\n",
    "    if agent == 'SB PPO':\n",
    "        or_suite.utils.run_single_sb_algo(mon_env, agents[agent], DEFAULT_SETTINGS)\n",
    "    elif agent == 'TBS':\n",
    "        or_suite.utils.run_single_algo_tune(env, agents[agent], param_list, DEFAULT_SETTINGS)\n",
    "    else:\n",
    "        or_suite.utils.run_single_algo(env, agents[agent], DEFAULT_SETTINGS)\n",
    "\n",
    "    path_list_line.append('../data/inventory_control_'+str(agent))\n",
    "    algo_list_line.append(str(agent))\n",
    "    if agent != 'SB PPO':\n",
    "        path_list_radar.append('../data/inventory_control_'+str(agent))\n",
    "        algo_list_radar.append(str(agent))"
   ]
  },
  {
   "cell_type": "code",
   "execution_count": null,
   "id": "47acae27",
   "metadata": {},
   "outputs": [],
   "source": [
    "fig_path = '../figures/'\n",
    "fig_name = 'inventory'+'_line_plot'+'.pdf'\n",
    "or_suite.plots.plot_line_plots(path_list_line, algo_list_line, fig_path, fig_name, int(nEps / 40)+1)\n",
    "\n",
    "additional_metric = {}\n",
    "fig_name = 'inventory'+'_radar_plot'+'.pdf'\n",
    "or_suite.plots.plot_radar_plots(path_list_radar, algo_list_radar,\n",
    "fig_path, fig_name,\n",
    "additional_metric\n",
    ")"
   ]
  },
  {
   "cell_type": "code",
   "execution_count": null,
   "id": "fec64b37",
   "metadata": {},
   "outputs": [],
   "source": []
  },
  {
   "cell_type": "code",
   "execution_count": null,
   "id": "bc112cb1",
   "metadata": {},
   "outputs": [],
   "source": []
  },
  {
   "cell_type": "code",
   "execution_count": null,
   "id": "979a8915",
   "metadata": {},
   "outputs": [],
   "source": []
  }
 ],
 "metadata": {
  "kernelspec": {
   "display_name": "Python 3",
   "language": "python",
   "name": "python3"
  },
  "language_info": {
   "codemirror_mode": {
    "name": "ipython",
    "version": 3
   },
   "file_extension": ".py",
   "mimetype": "text/x-python",
   "name": "python",
   "nbconvert_exporter": "python",
   "pygments_lexer": "ipython3",
   "version": "3.8.5"
  }
 },
 "nbformat": 4,
 "nbformat_minor": 5
}
