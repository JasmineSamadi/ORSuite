{
 "cells": [
  {
   "cell_type": "code",
   "execution_count": 1,
   "source": [
    "import or_suite\n",
    "import numpy as np\n",
    "import gym"
   ],
   "outputs": [],
   "metadata": {}
  },
  {
   "cell_type": "markdown",
   "source": [
    "# One Supplier"
   ],
   "metadata": {}
  },
  {
   "cell_type": "code",
   "execution_count": 2,
   "source": [
    "CONFIG1 = {'lead_times':[3], 'supplier_costs': [100], 'demand_dist': lambda x: np.random.poisson(10), 'hold_cost':1, 'backorder_cost':19, 'max_inventory':500, 'max_order':100, 'epLen':500, 'starting_state': None}"
   ],
   "outputs": [],
   "metadata": {}
  },
  {
   "cell_type": "code",
   "execution_count": 3,
   "source": [
    "env1 = gym.make('MultipleSuppliers-v0', config = CONFIG1)"
   ],
   "outputs": [],
   "metadata": {}
  },
  {
   "cell_type": "code",
   "execution_count": 4,
   "source": [
    "print(env1.state)\n",
    "print(env1.action_space)\n",
    "print(env1.observation_space)"
   ],
   "outputs": [
    {
     "output_type": "stream",
     "name": "stdout",
     "text": [
      "[  0   0   0 500]\n",
      "MultiDiscrete([101])\n",
      "MultiDiscrete([ 101  101  101 1001])\n"
     ]
    }
   ],
   "metadata": {}
  },
  {
   "cell_type": "code",
   "execution_count": 5,
   "source": [
    "action = [15]\n",
    "# testing the step function\n",
    "newState, reward,  done, info = env1.step(action)\n",
    "print(newState)\n",
    "print(reward)\n",
    "print(done)"
   ],
   "outputs": [
    {
     "output_type": "stream",
     "name": "stdout",
     "text": [
      "[  0   0  15 486]\n",
      "0.0\n",
      "False\n"
     ]
    }
   ],
   "metadata": {}
  },
  {
   "cell_type": "code",
   "execution_count": 6,
   "source": [
    "newState, reward,  done, info = env1.step(action)\n",
    "print(newState)\n",
    "print(reward)\n",
    "print(done)"
   ],
   "outputs": [
    {
     "output_type": "stream",
     "name": "stdout",
     "text": [
      "[  0  15  15 480]\n",
      "-1766.0\n",
      "False\n"
     ]
    }
   ],
   "metadata": {}
  },
  {
   "cell_type": "code",
   "execution_count": 7,
   "source": [
    "newState, reward,  done, info = env1.step(action)\n",
    "print(newState)\n",
    "print(reward)\n",
    "print(done)"
   ],
   "outputs": [
    {
     "output_type": "stream",
     "name": "stdout",
     "text": [
      "[ 15  15  15 465]\n",
      "-1880.0\n",
      "False\n"
     ]
    }
   ],
   "metadata": {}
  },
  {
   "cell_type": "code",
   "execution_count": 8,
   "source": [
    "newState, reward,  done, info = env1.step(action)\n",
    "print(newState)\n",
    "print(reward)\n",
    "print(done)"
   ],
   "outputs": [
    {
     "output_type": "stream",
     "name": "stdout",
     "text": [
      "[ 15  15  15 473]\n",
      "-2165.0\n",
      "False\n"
     ]
    }
   ],
   "metadata": {}
  },
  {
   "cell_type": "markdown",
   "source": [
    "# Two Suppliers"
   ],
   "metadata": {}
  },
  {
   "cell_type": "code",
   "execution_count": 9,
   "source": [
    "CONFIG = or_suite.envs.env_configs.inventory_control_multiple_suppliers_default_config"
   ],
   "outputs": [],
   "metadata": {}
  },
  {
   "cell_type": "code",
   "execution_count": 10,
   "source": [
    "# making an instance of the environment\n",
    "env = gym.make('MultipleSuppliers-v0', config=CONFIG)"
   ],
   "outputs": [],
   "metadata": {}
  },
  {
   "cell_type": "code",
   "execution_count": 11,
   "source": [
    "print(env.state)\n",
    "print(env.action_space)\n",
    "print(env.observation_space)"
   ],
   "outputs": [
    {
     "output_type": "stream",
     "name": "stdout",
     "text": [
      "[   0    0    0    0    0    0 1000]\n",
      "MultiDiscrete([21 21])\n",
      "MultiDiscrete([  21   21   21   21   21   21 2001])\n"
     ]
    }
   ],
   "metadata": {}
  },
  {
   "cell_type": "code",
   "execution_count": 12,
   "source": [
    "np.random.seed(10)\n",
    "action = [1,15]\n",
    "# testing the step function\n",
    "newState, reward,  done, info = env.step(action)\n",
    "print(newState)\n",
    "print(reward)\n",
    "print(done)"
   ],
   "outputs": [
    {
     "output_type": "stream",
     "name": "stdout",
     "text": [
      "[  0   0   0   0   1  15 987]\n",
      "0.0\n",
      "False\n"
     ]
    }
   ],
   "metadata": {}
  },
  {
   "cell_type": "code",
   "execution_count": 14,
   "source": [
    "newState, reward,  done, info = env.step(action)\n",
    "print(newState)\n",
    "print(reward)\n",
    "print(done)\n",
    "print(info['demand'])"
   ],
   "outputs": [
    {
     "output_type": "stream",
     "name": "stdout",
     "text": [
      "[  0   0   1   1   1  15 996]\n",
      "-271.0\n",
      "False\n",
      "10\n"
     ]
    }
   ],
   "metadata": {}
  },
  {
   "cell_type": "code",
   "execution_count": 15,
   "source": [
    "newState, reward,  done, info = env.step(action)\n",
    "print(newState)\n",
    "print(reward)\n",
    "print(done)"
   ],
   "outputs": [
    {
     "output_type": "stream",
     "name": "stdout",
     "text": [
      "[   0    1    1    1    1   15 1004]\n",
      "-176.0\n",
      "False\n"
     ]
    }
   ],
   "metadata": {}
  },
  {
   "cell_type": "code",
   "execution_count": 16,
   "source": [
    "newState, reward,  done, info = env.step(action)\n",
    "print(newState)\n",
    "print(reward)\n",
    "print(done)"
   ],
   "outputs": [
    {
     "output_type": "stream",
     "name": "stdout",
     "text": [
      "[   1    1    1    1    1   15 1013]\n",
      "-104.0\n",
      "False\n"
     ]
    }
   ],
   "metadata": {}
  },
  {
   "cell_type": "code",
   "execution_count": 17,
   "source": [
    "from stable_baselines3.common.env_checker import check_env\n",
    "check_env(env, skip_render_check=True)"
   ],
   "outputs": [],
   "metadata": {}
  },
  {
   "cell_type": "markdown",
   "source": [
    "# Four Suppliers"
   ],
   "metadata": {}
  },
  {
   "cell_type": "code",
   "execution_count": 18,
   "source": [
    "CONFIG4 = {'lead_times':[3, 2, 5, 1], 'supplier_costs': [100, 200, 50, 1000], 'demand_dist': lambda x: np.random.poisson(10),'hold_cost':1, 'backorder_cost':19, 'max_inventory':500, 'max_order':100, 'epLen':500, 'starting_state': None}"
   ],
   "outputs": [],
   "metadata": {}
  },
  {
   "cell_type": "code",
   "execution_count": 19,
   "source": [
    "env4 = gym.make('MultipleSuppliers-v0', config = CONFIG4)"
   ],
   "outputs": [],
   "metadata": {}
  },
  {
   "cell_type": "code",
   "execution_count": 20,
   "source": [
    "print(env4.state)\n",
    "print(env4.action_space)\n",
    "print(env4.observation_space)"
   ],
   "outputs": [
    {
     "output_type": "stream",
     "name": "stdout",
     "text": [
      "[  0   0   0   0   0   0   0   0   0   0   0 500]\n",
      "MultiDiscrete([101 101 101 101])\n",
      "MultiDiscrete([ 101  101  101  101  101  101  101  101  101  101  101 1001])\n"
     ]
    }
   ],
   "metadata": {}
  },
  {
   "cell_type": "code",
   "execution_count": 21,
   "source": [
    "action = [15, 2, 7, 8]\n",
    "# testing the step function\n",
    "newState, reward,  done, info = env4.step(action)\n",
    "print(newState)\n",
    "print(reward)\n",
    "print(done)"
   ],
   "outputs": [
    {
     "output_type": "stream",
     "name": "stdout",
     "text": [
      "[  0   0  15   0   2   0   0   0   0   7   8 490]\n",
      "0.0\n",
      "False\n"
     ]
    }
   ],
   "metadata": {}
  },
  {
   "cell_type": "code",
   "execution_count": 22,
   "source": [
    "newState, reward,  done, info = env4.step(action)\n",
    "print(newState)\n",
    "print(reward)\n",
    "print(done)"
   ],
   "outputs": [
    {
     "output_type": "stream",
     "name": "stdout",
     "text": [
      "[  0  15  15   2   2   0   0   0   7   7   8 491]\n",
      "-1790.0\n",
      "False\n"
     ]
    }
   ],
   "metadata": {}
  },
  {
   "cell_type": "code",
   "execution_count": 23,
   "source": [
    "newState, reward,  done, info = env4.step(action)\n",
    "print(newState)\n",
    "print(reward)\n",
    "print(done)"
   ],
   "outputs": [
    {
     "output_type": "stream",
     "name": "stdout",
     "text": [
      "[ 15  15  15   2   2   0   0   7   7   7   8 493]\n",
      "-4771.0\n",
      "False\n"
     ]
    }
   ],
   "metadata": {}
  },
  {
   "cell_type": "code",
   "execution_count": 24,
   "source": [
    "newState, reward,  done, info = env4.step(action)\n",
    "print(newState)\n",
    "print(reward)\n",
    "print(done)"
   ],
   "outputs": [
    {
     "output_type": "stream",
     "name": "stdout",
     "text": [
      "[ 15  15  15   2   2   0   7   7   7   7   8 510]\n",
      "-19733.0\n",
      "False\n"
     ]
    }
   ],
   "metadata": {}
  },
  {
   "cell_type": "markdown",
   "source": [
    "# Vaccine Allotment Code Demonstration\n",
    "\n",
    "Reinforcement learning (RL) is a natural model for problems involving real-time sequential decision making. In these models, a principal interacts with a system having stochastic transitions and rewards and aims to control the system online (by exploring available actions using real-time feedback) or offline (by exploiting known properties of the system).\n",
    "\n",
    "This project revolves around providing a unified landscape on scaling reinforcement learning algorithms to operations research domains.\n",
    "\n",
    "In this notebook we walk through generating plots, and applying the problem to the `vaccine allotment` problem with a population of size $P$ split into four risk classes, a discrete state space $\\mathcal{S} = \\{0, 1, 2, \\ldots, P\\}^{11}$, and a discrete action space consisting of \"priority orders\" corresponding to how we allot vaccines to the four risk classes. In this case, a valid priority order is one of two options: \n",
    "1. an empty list -- interpreted as no priority order, meaning we vaccinate the population randomly\n",
    "2. a permutation of the numbers $\\{1,2,3,4\\}$ -- interpreted as the order in which we vaccinate the risk classes"
   ],
   "metadata": {}
  },
  {
   "cell_type": "markdown",
   "source": [
    "### Step 1: Import Required Packages\n",
    "\n",
    "The main package for ORSuite is contained in `or_suite`.  However, some additional packages may be required for specific environments / algorithms.  Here, we include `stable baselines`, a package containing implementation for state of the art deep RL algorithms, and `matploblib` for the plotting."
   ],
   "metadata": {}
  },
  {
   "cell_type": "code",
   "execution_count": 10,
   "source": [
    "import or_suite\n",
    "import gym\n",
    "import matplotlib.pyplot as plt\n",
    "from stable_baselines3.common.monitor import Monitor\n",
    "from stable_baselines3 import PPO\n",
    "from stable_baselines3.ppo import MlpPolicy\n",
    "import numpy as np\n",
    "import pickle"
   ],
   "outputs": [],
   "metadata": {}
  },
  {
   "cell_type": "markdown",
   "source": [
    "### Step 2: Pick problem parameters for the environment\n",
    "\n",
    "Here we use the ambulance metric environment as outlined in `or_suite/envs/ambulance/ambulance_metric.py`.  The package has default specifications for all of the environments in the file `or_suite/envs/env_configs.py`, and so we use one the default for the ambulance problem in a metric space.\n",
    "\n",
    "In addition, we need to specify the number of episodes for learning, and the number of iterations (in order to plot average results with confidence intervals)."
   ],
   "metadata": {}
  },
  {
   "cell_type": "code",
   "execution_count": 11,
   "source": [
    "DEFAULT_CONFIG = or_suite.envs.env_configs.inventory_control_multiple_suppliers_default_config\n",
    "epLen = DEFAULT_CONFIG['epLen']\n",
    "nEps = 200\n",
    "numIters = 5"
   ],
   "outputs": [],
   "metadata": {}
  },
  {
   "cell_type": "markdown",
   "source": [
    "### Step 3: Pick simulation parameters\n",
    "\n",
    "Next we need to specify parameters for the simulation.  This includes setting a seed, the frequency to record the metrics, directory path for saving the data files, a deBug mode which prints the trajectory, etc."
   ],
   "metadata": {}
  },
  {
   "cell_type": "code",
   "execution_count": 12,
   "source": [
    "DEFAULT_SETTINGS = {'seed': 1, \n",
    "                    'recFreq': 1, \n",
    "                    'dirPath': '../data/vaccine/', \n",
    "                    'deBug': False, \n",
    "                    'nEps': nEps, \n",
    "                    'numIters': numIters,\n",
    "                    'render': False,\n",
    "                    'saveTrajectory': True, \n",
    "                    'epLen' : 5,\n",
    "                    'pickle': False}\n",
    "\n",
    "suppliers_env = gym.make('MultipleSuppliers-v0', config=DEFAULT_CONFIG)\n",
    "mon_env = Monitor(suppliers_env)"
   ],
   "outputs": [],
   "metadata": {
    "scrolled": false
   }
  },
  {
   "cell_type": "markdown",
   "source": [
    "### Step 4: Pick list of algorithms\n",
    "\n",
    "We have several heuristics implemented for each of the environments defined, in addition to a `random` policy, and some `RL discretization based` algorithms.  Here we pick a couple of the heuristics, and a PPO algorithm implemented from `stable baselines` just to test."
   ],
   "metadata": {}
  },
  {
   "cell_type": "code",
   "execution_count": 13,
   "source": [
    "agents = {'Random': or_suite.agents.rl.random.randomAgent(),\n",
    "          'SB PPO': PPO(MlpPolicy, mon_env, gamma=1, verbose=0, n_steps=epLen),\n",
    "          }"
   ],
   "outputs": [
    {
     "output_type": "stream",
     "name": "stderr",
     "text": [
      "/Users/davidwolfers/opt/anaconda3/envs/ORSuite/lib/python3.8/site-packages/stable_baselines3/ppo/ppo.py:131: UserWarning: You have specified a mini-batch size of 64, but because the `RolloutBuffer` is of size `n_steps * n_envs = 4`, after every 0 untruncated mini-batches, there will be a truncated mini-batch of size 4\n",
      "We recommend using a `batch_size` that is a multiple of `n_steps * n_envs`.\n",
      "Info: (n_steps=4 and n_envs=1)\n",
      "  warnings.warn(\n"
     ]
    }
   ],
   "metadata": {}
  },
  {
   "cell_type": "markdown",
   "source": [
    "### Step 5: Run simulations"
   ],
   "metadata": {}
  },
  {
   "cell_type": "code",
   "execution_count": 14,
   "source": [
    "# or_suite.utils.run_single_algo(mon_env, agents['Random'], DEFAULT_SETTINGS)"
   ],
   "outputs": [],
   "metadata": {}
  },
  {
   "cell_type": "code",
   "execution_count": null,
   "source": [
    "for agent in agents:\n",
    "    print(agent)\n",
    "    DEFAULT_SETTINGS['dirPath'] = '../data/vaccine_metric_test_'+str(agent)+'/'\n",
    "    if agent == 'SB PPO':\n",
    "        or_suite.utils.run_single_sb_algo(mon_env, agents[agent], DEFAULT_SETTINGS)\n",
    "    else:\n",
    "        or_suite.utils.run_single_algo(mon_env, agents[agent], DEFAULT_SETTINGS)"
   ],
   "outputs": [
    {
     "output_type": "stream",
     "name": "stdout",
     "text": [
      "Random\n",
      "**************************************************\n",
      "Running experiment\n",
      "**************************************************\n",
      " We've reached vaccination event number 100.0\n",
      " We've reached vaccination event number 200.0\n",
      " We've reached vaccination event number 300.0\n",
      " We've reached vaccination event number 400.0\n",
      " We've reached vaccination event number 500.0\n",
      " We've reached vaccination event number 600.0\n",
      " We've reached vaccination event number 700.0\n",
      " We've reached vaccination event number 100.0\n",
      " We've reached vaccination event number 200.0\n",
      " We've reached vaccination event number 300.0\n",
      " We've reached vaccination event number 400.0\n",
      " We've reached vaccination event number 500.0\n",
      " We've reached vaccination event number 600.0\n",
      " We've reached vaccination event number 700.0\n",
      " We've reached vaccination event number 100.0\n",
      " We've reached vaccination event number 200.0\n",
      " We've reached vaccination event number 300.0\n",
      " We've reached vaccination event number 400.0\n",
      " We've reached vaccination event number 500.0\n",
      " We've reached vaccination event number 600.0\n",
      " We've reached vaccination event number 700.0\n",
      " We've reached vaccination event number 100.0\n",
      " We've reached vaccination event number 200.0\n",
      " We've reached vaccination event number 300.0\n",
      " We've reached vaccination event number 400.0\n",
      " We've reached vaccination event number 500.0\n",
      " We've reached vaccination event number 600.0\n",
      " We've reached vaccination event number 700.0\n",
      " We've reached vaccination event number 100.0\n",
      " We've reached vaccination event number 200.0\n",
      " We've reached vaccination event number 300.0\n",
      " We've reached vaccination event number 400.0\n",
      " We've reached vaccination event number 500.0\n",
      " We've reached vaccination event number 600.0\n",
      " We've reached vaccination event number 700.0\n",
      " We've reached vaccination event number 100.0\n",
      " We've reached vaccination event number 200.0\n",
      " We've reached vaccination event number 300.0\n",
      " We've reached vaccination event number 400.0\n",
      " We've reached vaccination event number 500.0\n",
      " We've reached vaccination event number 600.0\n",
      " We've reached vaccination event number 700.0\n",
      " We've reached vaccination event number 100.0\n",
      " We've reached vaccination event number 200.0\n",
      " We've reached vaccination event number 300.0\n",
      " We've reached vaccination event number 400.0\n",
      " We've reached vaccination event number 500.0\n",
      " We've reached vaccination event number 600.0\n",
      " We've reached vaccination event number 700.0\n",
      " We've reached vaccination event number 100.0\n",
      " We've reached vaccination event number 200.0\n",
      " We've reached vaccination event number 300.0\n",
      " We've reached vaccination event number 400.0\n",
      " We've reached vaccination event number 500.0\n",
      " We've reached vaccination event number 600.0\n",
      " We've reached vaccination event number 700.0\n",
      " We've reached vaccination event number 100.0\n",
      " We've reached vaccination event number 200.0\n",
      " We've reached vaccination event number 300.0\n",
      " We've reached vaccination event number 400.0\n",
      " We've reached vaccination event number 500.0\n",
      " We've reached vaccination event number 600.0\n",
      " We've reached vaccination event number 700.0\n",
      " We've reached vaccination event number 100.0\n",
      " We've reached vaccination event number 200.0\n",
      " We've reached vaccination event number 300.0\n",
      " We've reached vaccination event number 400.0\n",
      " We've reached vaccination event number 500.0\n",
      " We've reached vaccination event number 600.0\n",
      " We've reached vaccination event number 700.0\n",
      " We've reached vaccination event number 100.0\n",
      " We've reached vaccination event number 200.0\n",
      " We've reached vaccination event number 300.0\n",
      " We've reached vaccination event number 400.0\n",
      " We've reached vaccination event number 500.0\n",
      " We've reached vaccination event number 600.0\n",
      " We've reached vaccination event number 700.0\n",
      " We've reached vaccination event number 100.0\n",
      " We've reached vaccination event number 200.0\n",
      " We've reached vaccination event number 300.0\n",
      " We've reached vaccination event number 400.0\n",
      " We've reached vaccination event number 500.0\n",
      " We've reached vaccination event number 600.0\n",
      " We've reached vaccination event number 700.0\n",
      " We've reached vaccination event number 100.0\n",
      " We've reached vaccination event number 200.0\n",
      " We've reached vaccination event number 300.0\n",
      " We've reached vaccination event number 400.0\n",
      " We've reached vaccination event number 500.0\n",
      " We've reached vaccination event number 600.0\n",
      " We've reached vaccination event number 700.0\n",
      " We've reached vaccination event number 100.0\n",
      " We've reached vaccination event number 200.0\n",
      " We've reached vaccination event number 300.0\n",
      " We've reached vaccination event number 400.0\n",
      " We've reached vaccination event number 500.0\n",
      " We've reached vaccination event number 600.0\n",
      " We've reached vaccination event number 700.0\n",
      " We've reached vaccination event number 100.0\n",
      " We've reached vaccination event number 200.0\n",
      " We've reached vaccination event number 300.0\n",
      " We've reached vaccination event number 400.0\n",
      " We've reached vaccination event number 500.0\n",
      " We've reached vaccination event number 600.0\n",
      " We've reached vaccination event number 700.0\n",
      " We've reached vaccination event number 100.0\n",
      " We've reached vaccination event number 200.0\n",
      " We've reached vaccination event number 300.0\n",
      " We've reached vaccination event number 400.0\n",
      " We've reached vaccination event number 500.0\n",
      " We've reached vaccination event number 600.0\n",
      " We've reached vaccination event number 700.0\n",
      " We've reached vaccination event number 100.0\n",
      " We've reached vaccination event number 200.0\n",
      " We've reached vaccination event number 300.0\n",
      " We've reached vaccination event number 400.0\n",
      " We've reached vaccination event number 500.0\n",
      " We've reached vaccination event number 600.0\n",
      " We've reached vaccination event number 700.0\n",
      " We've reached vaccination event number 100.0\n",
      " We've reached vaccination event number 200.0\n",
      " We've reached vaccination event number 300.0\n",
      " We've reached vaccination event number 400.0\n",
      " We've reached vaccination event number 500.0\n",
      " We've reached vaccination event number 600.0\n",
      " We've reached vaccination event number 700.0\n",
      " We've reached vaccination event number 100.0\n",
      " We've reached vaccination event number 200.0\n",
      " We've reached vaccination event number 300.0\n",
      " We've reached vaccination event number 400.0\n",
      " We've reached vaccination event number 500.0\n",
      " We've reached vaccination event number 600.0\n",
      " We've reached vaccination event number 700.0\n",
      " We've reached vaccination event number 100.0\n",
      " We've reached vaccination event number 200.0\n",
      " We've reached vaccination event number 300.0\n",
      " We've reached vaccination event number 400.0\n",
      " We've reached vaccination event number 500.0\n",
      " We've reached vaccination event number 600.0\n",
      " We've reached vaccination event number 700.0\n",
      " We've reached vaccination event number 100.0\n",
      " We've reached vaccination event number 200.0\n",
      " We've reached vaccination event number 300.0\n",
      " We've reached vaccination event number 400.0\n",
      " We've reached vaccination event number 500.0\n",
      " We've reached vaccination event number 600.0\n",
      " We've reached vaccination event number 700.0\n",
      " We've reached vaccination event number 100.0\n",
      " We've reached vaccination event number 200.0\n",
      " We've reached vaccination event number 300.0\n",
      " We've reached vaccination event number 400.0\n",
      " We've reached vaccination event number 500.0\n",
      " We've reached vaccination event number 600.0\n",
      " We've reached vaccination event number 700.0\n",
      " We've reached vaccination event number 100.0\n",
      " We've reached vaccination event number 200.0\n",
      " We've reached vaccination event number 300.0\n",
      " We've reached vaccination event number 400.0\n",
      " We've reached vaccination event number 500.0\n",
      " We've reached vaccination event number 600.0\n",
      " We've reached vaccination event number 700.0\n",
      " We've reached vaccination event number 100.0\n",
      " We've reached vaccination event number 200.0\n",
      " We've reached vaccination event number 300.0\n",
      " We've reached vaccination event number 400.0\n",
      " We've reached vaccination event number 500.0\n",
      " We've reached vaccination event number 600.0\n",
      " We've reached vaccination event number 700.0\n",
      " We've reached vaccination event number 100.0\n",
      " We've reached vaccination event number 200.0\n",
      " We've reached vaccination event number 300.0\n",
      " We've reached vaccination event number 400.0\n",
      " We've reached vaccination event number 500.0\n",
      " We've reached vaccination event number 600.0\n",
      " We've reached vaccination event number 700.0\n",
      " We've reached vaccination event number 100.0\n",
      " We've reached vaccination event number 200.0\n",
      " We've reached vaccination event number 300.0\n",
      " We've reached vaccination event number 400.0\n",
      " We've reached vaccination event number 500.0\n"
     ]
    },
    {
     "output_type": "stream",
     "name": "stdout",
     "text": [
      " We've reached vaccination event number 600.0\n",
      " We've reached vaccination event number 700.0\n",
      " We've reached vaccination event number 100.0\n",
      " We've reached vaccination event number 200.0\n",
      " We've reached vaccination event number 300.0\n",
      " We've reached vaccination event number 400.0\n",
      " We've reached vaccination event number 500.0\n",
      " We've reached vaccination event number 600.0\n",
      " We've reached vaccination event number 700.0\n",
      " We've reached vaccination event number 100.0\n",
      " We've reached vaccination event number 200.0\n",
      " We've reached vaccination event number 300.0\n",
      " We've reached vaccination event number 400.0\n",
      " We've reached vaccination event number 500.0\n",
      " We've reached vaccination event number 600.0\n",
      " We've reached vaccination event number 700.0\n",
      " We've reached vaccination event number 100.0\n",
      " We've reached vaccination event number 200.0\n",
      " We've reached vaccination event number 300.0\n",
      " We've reached vaccination event number 400.0\n",
      " We've reached vaccination event number 500.0\n",
      " We've reached vaccination event number 600.0\n",
      " We've reached vaccination event number 700.0\n",
      " We've reached vaccination event number 100.0\n",
      " We've reached vaccination event number 200.0\n",
      " We've reached vaccination event number 300.0\n",
      " We've reached vaccination event number 400.0\n",
      " We've reached vaccination event number 500.0\n",
      " We've reached vaccination event number 600.0\n",
      " We've reached vaccination event number 700.0\n",
      " We've reached vaccination event number 100.0\n",
      " We've reached vaccination event number 200.0\n",
      " We've reached vaccination event number 300.0\n",
      " We've reached vaccination event number 400.0\n",
      " We've reached vaccination event number 500.0\n",
      " We've reached vaccination event number 600.0\n",
      " We've reached vaccination event number 700.0\n",
      " We've reached vaccination event number 100.0\n",
      " We've reached vaccination event number 200.0\n",
      " We've reached vaccination event number 300.0\n",
      " We've reached vaccination event number 400.0\n",
      " We've reached vaccination event number 500.0\n",
      " We've reached vaccination event number 600.0\n",
      " We've reached vaccination event number 700.0\n",
      " We've reached vaccination event number 100.0\n",
      " We've reached vaccination event number 200.0\n",
      " We've reached vaccination event number 300.0\n",
      " We've reached vaccination event number 400.0\n",
      " We've reached vaccination event number 500.0\n",
      " We've reached vaccination event number 600.0\n",
      " We've reached vaccination event number 700.0\n",
      " We've reached vaccination event number 100.0\n",
      " We've reached vaccination event number 200.0\n",
      " We've reached vaccination event number 300.0\n",
      " We've reached vaccination event number 400.0\n",
      " We've reached vaccination event number 500.0\n",
      " We've reached vaccination event number 600.0\n",
      " We've reached vaccination event number 700.0\n",
      " We've reached vaccination event number 100.0\n",
      " We've reached vaccination event number 200.0\n",
      " We've reached vaccination event number 300.0\n",
      " We've reached vaccination event number 400.0\n",
      " We've reached vaccination event number 500.0\n",
      " We've reached vaccination event number 600.0\n",
      " We've reached vaccination event number 700.0\n",
      " We've reached vaccination event number 100.0\n",
      " We've reached vaccination event number 200.0\n",
      " We've reached vaccination event number 300.0\n",
      " We've reached vaccination event number 400.0\n",
      " We've reached vaccination event number 500.0\n",
      " We've reached vaccination event number 600.0\n",
      " We've reached vaccination event number 700.0\n",
      " We've reached vaccination event number 100.0\n",
      " We've reached vaccination event number 200.0\n",
      " We've reached vaccination event number 300.0\n",
      " We've reached vaccination event number 400.0\n",
      " We've reached vaccination event number 500.0\n",
      " We've reached vaccination event number 600.0\n",
      " We've reached vaccination event number 700.0\n",
      " We've reached vaccination event number 100.0\n",
      " We've reached vaccination event number 200.0\n",
      " We've reached vaccination event number 300.0\n",
      " We've reached vaccination event number 400.0\n",
      " We've reached vaccination event number 500.0\n",
      " We've reached vaccination event number 600.0\n",
      " We've reached vaccination event number 700.0\n",
      " We've reached vaccination event number 100.0\n",
      " We've reached vaccination event number 200.0\n",
      " We've reached vaccination event number 300.0\n",
      " We've reached vaccination event number 400.0\n",
      " We've reached vaccination event number 500.0\n",
      " We've reached vaccination event number 600.0\n",
      " We've reached vaccination event number 700.0\n",
      " We've reached vaccination event number 100.0\n",
      " We've reached vaccination event number 200.0\n",
      " We've reached vaccination event number 300.0\n",
      " We've reached vaccination event number 400.0\n",
      " We've reached vaccination event number 500.0\n",
      " We've reached vaccination event number 600.0\n",
      " We've reached vaccination event number 700.0\n",
      " We've reached vaccination event number 100.0\n",
      " We've reached vaccination event number 200.0\n",
      " We've reached vaccination event number 300.0\n",
      " We've reached vaccination event number 400.0\n",
      " We've reached vaccination event number 500.0\n",
      " We've reached vaccination event number 600.0\n",
      " We've reached vaccination event number 700.0\n",
      " We've reached vaccination event number 100.0\n",
      " We've reached vaccination event number 200.0\n",
      " We've reached vaccination event number 300.0\n",
      " We've reached vaccination event number 400.0\n",
      " We've reached vaccination event number 500.0\n",
      " We've reached vaccination event number 600.0\n",
      " We've reached vaccination event number 700.0\n",
      " We've reached vaccination event number 100.0\n",
      " We've reached vaccination event number 200.0\n",
      " We've reached vaccination event number 300.0\n",
      " We've reached vaccination event number 400.0\n",
      " We've reached vaccination event number 500.0\n",
      " We've reached vaccination event number 600.0\n",
      " We've reached vaccination event number 700.0\n",
      " We've reached vaccination event number 100.0\n",
      " We've reached vaccination event number 200.0\n",
      " We've reached vaccination event number 300.0\n",
      " We've reached vaccination event number 400.0\n",
      " We've reached vaccination event number 500.0\n",
      " We've reached vaccination event number 600.0\n",
      " We've reached vaccination event number 700.0\n",
      " We've reached vaccination event number 100.0\n",
      " We've reached vaccination event number 200.0\n",
      " We've reached vaccination event number 300.0\n",
      " We've reached vaccination event number 400.0\n",
      " We've reached vaccination event number 500.0\n",
      " We've reached vaccination event number 600.0\n",
      " We've reached vaccination event number 700.0\n",
      " We've reached vaccination event number 100.0\n",
      " We've reached vaccination event number 200.0\n",
      " We've reached vaccination event number 300.0\n",
      " We've reached vaccination event number 400.0\n",
      " We've reached vaccination event number 500.0\n",
      " We've reached vaccination event number 600.0\n",
      " We've reached vaccination event number 700.0\n",
      " We've reached vaccination event number 100.0\n",
      " We've reached vaccination event number 200.0\n",
      " We've reached vaccination event number 300.0\n",
      " We've reached vaccination event number 400.0\n",
      " We've reached vaccination event number 500.0\n",
      " We've reached vaccination event number 600.0\n",
      " We've reached vaccination event number 700.0\n",
      " We've reached vaccination event number 100.0\n",
      " We've reached vaccination event number 200.0\n",
      " We've reached vaccination event number 300.0\n",
      " We've reached vaccination event number 400.0\n",
      " We've reached vaccination event number 500.0\n",
      " We've reached vaccination event number 600.0\n",
      " We've reached vaccination event number 700.0\n",
      " We've reached vaccination event number 100.0\n",
      " We've reached vaccination event number 200.0\n",
      " We've reached vaccination event number 300.0\n",
      " We've reached vaccination event number 400.0\n",
      " We've reached vaccination event number 500.0\n",
      " We've reached vaccination event number 600.0\n",
      " We've reached vaccination event number 700.0\n",
      " We've reached vaccination event number 100.0\n",
      " We've reached vaccination event number 200.0\n",
      " We've reached vaccination event number 300.0\n",
      " We've reached vaccination event number 400.0\n",
      " We've reached vaccination event number 500.0\n",
      " We've reached vaccination event number 600.0\n",
      " We've reached vaccination event number 700.0\n",
      " We've reached vaccination event number 100.0\n",
      " We've reached vaccination event number 200.0\n",
      " We've reached vaccination event number 300.0\n",
      " We've reached vaccination event number 400.0\n",
      " We've reached vaccination event number 500.0\n",
      " We've reached vaccination event number 600.0\n",
      " We've reached vaccination event number 700.0\n",
      " We've reached vaccination event number 100.0\n",
      " We've reached vaccination event number 200.0\n",
      " We've reached vaccination event number 300.0\n",
      " We've reached vaccination event number 400.0\n",
      " We've reached vaccination event number 500.0\n",
      " We've reached vaccination event number 600.0\n",
      " We've reached vaccination event number 700.0\n",
      " We've reached vaccination event number 100.0\n",
      " We've reached vaccination event number 200.0\n",
      " We've reached vaccination event number 300.0\n"
     ]
    },
    {
     "output_type": "stream",
     "name": "stdout",
     "text": [
      " We've reached vaccination event number 400.0\n",
      " We've reached vaccination event number 500.0\n",
      " We've reached vaccination event number 600.0\n",
      " We've reached vaccination event number 700.0\n",
      " We've reached vaccination event number 100.0\n",
      " We've reached vaccination event number 200.0\n",
      " We've reached vaccination event number 300.0\n",
      " We've reached vaccination event number 400.0\n",
      " We've reached vaccination event number 500.0\n",
      " We've reached vaccination event number 600.0\n",
      " We've reached vaccination event number 700.0\n",
      " We've reached vaccination event number 100.0\n",
      " We've reached vaccination event number 200.0\n",
      " We've reached vaccination event number 300.0\n",
      " We've reached vaccination event number 400.0\n",
      " We've reached vaccination event number 500.0\n",
      " We've reached vaccination event number 600.0\n",
      " We've reached vaccination event number 700.0\n",
      " We've reached vaccination event number 100.0\n",
      " We've reached vaccination event number 200.0\n",
      " We've reached vaccination event number 300.0\n",
      " We've reached vaccination event number 400.0\n",
      " We've reached vaccination event number 500.0\n",
      " We've reached vaccination event number 600.0\n",
      " We've reached vaccination event number 700.0\n",
      " We've reached vaccination event number 100.0\n",
      " We've reached vaccination event number 200.0\n",
      " We've reached vaccination event number 300.0\n",
      " We've reached vaccination event number 400.0\n",
      " We've reached vaccination event number 500.0\n",
      " We've reached vaccination event number 600.0\n",
      " We've reached vaccination event number 700.0\n",
      " We've reached vaccination event number 100.0\n",
      " We've reached vaccination event number 200.0"
     ]
    }
   ],
   "metadata": {}
  },
  {
   "cell_type": "markdown",
   "source": [
    "### Step 6: Generate figures"
   ],
   "metadata": {}
  },
  {
   "cell_type": "code",
   "execution_count": null,
   "source": [
    "'''\n",
    "# Plots for just the random agent\n",
    "\n",
    "path_list_line = []\n",
    "path_list_radar = []\n",
    "algo_list_line = []\n",
    "algo_list_radar = []\n",
    "\n",
    "#print(str(agents['Random']))\n",
    "path_list_line.append('../data/vaccine_metric_test_'+'Random')\n",
    "algo_list_line.append(\"Random\")\n",
    "path_list_radar.append('../data/vaccine_metric_test_'+'Random'+'/')\n",
    "algo_list_radar.append(\"Random\")\n",
    "'''"
   ],
   "outputs": [],
   "metadata": {}
  },
  {
   "cell_type": "code",
   "execution_count": null,
   "source": [
    "'''\n",
    "# Plots for just the random agent\n",
    "\n",
    "fig_path = '../figures/'\n",
    "fig_name = 'test_vaccine_metric.pdf'\n",
    "\n",
    "or_suite.plots.plot_line_plots(path_list_line, algo_list_line, fig_path, fig_name, int(nEps / 40) + 1)\n",
    "'''"
   ],
   "outputs": [],
   "metadata": {}
  },
  {
   "cell_type": "code",
   "execution_count": null,
   "source": [
    "#additional_metric = {'MRT': lambda traj : or_suite.utils.mean_response_time(traj, lambda x, y : np.abs(x-y))}\n",
    "\n",
    "#or_suite.plots.plot_radar_plots(path_list_radar, algo_list_radar, fig_path, fig_name, None)"
   ],
   "outputs": [],
   "metadata": {}
  },
  {
   "cell_type": "code",
   "execution_count": null,
   "source": [
    "import os\n",
    "os.getcwd()"
   ],
   "outputs": [],
   "metadata": {}
  },
  {
   "cell_type": "code",
   "execution_count": null,
   "source": [
    "path_list_line = []\n",
    "path_list_radar = []\n",
    "algo_list_line = []\n",
    "algo_list_radar = []\n",
    "\n",
    "for agent in agents:\n",
    "    print(str(agent))\n",
    "    path_list_line.append('../data/vaccine_metric_test_'+str(agent))\n",
    "    algo_list_line.append(str(agent))\n",
    "    if agent != 'SB PPO':    \n",
    "        path_list_radar.append('../data/vaccine_metric_test_'+str(agent)+'/')\n",
    "        algo_list_radar.append(str(agent))\n",
    "\n",
    "    \n",
    "\n",
    "fig_path = '../figures/'\n",
    "fig_name1 = 'test_vaccine_metric_line.pdf'\n",
    "fig_name2 = 'test_vaccine_metric_radar.pdf'\n",
    "\n",
    "or_suite.plots.plot_line_plots(path_list_line, algo_list_line, fig_path, fig_name1, int(nEps / 40) + 1)"
   ],
   "outputs": [],
   "metadata": {}
  },
  {
   "cell_type": "code",
   "execution_count": null,
   "source": [
    "additional_metric = None\n",
    "\n",
    "or_suite.plots.plot_radar_plots(path_list_radar, algo_list_radar, fig_path, fig_name2, additional_metric)"
   ],
   "outputs": [],
   "metadata": {}
  },
  {
   "cell_type": "code",
   "execution_count": null,
   "source": [],
   "outputs": [],
   "metadata": {}
  }
 ],
 "metadata": {
  "kernelspec": {
   "name": "python3",
   "display_name": "Python 3.8.5 64-bit ('ORSuite': conda)"
  },
  "language_info": {
   "codemirror_mode": {
    "name": "ipython",
    "version": 3
   },
   "file_extension": ".py",
   "mimetype": "text/x-python",
   "name": "python",
   "nbconvert_exporter": "python",
   "pygments_lexer": "ipython3",
   "version": "3.8.5"
  },
  "interpreter": {
   "hash": "3aea52f0e504fc0c8fab1bd0b595280953bcd0b51f1e5356364f35786baaa868"
  }
 },
 "nbformat": 4,
 "nbformat_minor": 5
}