{
 "cells": [
  {
   "cell_type": "code",
   "execution_count": 1,
   "id": "b31ec6b6",
   "metadata": {},
   "outputs": [],
   "source": [
    "import or_suite\n",
    "import numpy as np\n",
    "import gym"
   ]
  },
  {
   "cell_type": "markdown",
   "id": "889c7030",
   "metadata": {},
   "source": [
    "# One Supplier"
   ]
  },
  {
   "cell_type": "code",
   "execution_count": 2,
   "id": "db337398",
   "metadata": {},
   "outputs": [],
   "source": [
    "CONFIG1 = {'L':[3], 'c': [100], 'lambda': 10, 'h':1, 'b':19, 'max_inventory':500, 'max_order':100, 'epLen':500}"
   ]
  },
  {
   "cell_type": "code",
   "execution_count": 3,
   "id": "05bb342e",
   "metadata": {},
   "outputs": [],
   "source": [
    "env1 = gym.make('MultipleSuppliers-v0', config = CONFIG1)"
   ]
  },
  {
   "cell_type": "code",
   "execution_count": 4,
   "id": "a9688610",
   "metadata": {},
   "outputs": [
    {
     "name": "stdout",
     "output_type": "stream",
     "text": [
      "[0 0 0 0]\n",
      "MultiDiscrete([101])\n",
      "MultiDiscrete([101 101 101 500])\n"
     ]
    }
   ],
   "source": [
    "print(env1.state)\n",
    "print(env1.action_space)\n",
    "print(env1.observation_space)"
   ]
  },
  {
   "cell_type": "code",
   "execution_count": 5,
   "id": "dcfb69b9",
   "metadata": {},
   "outputs": [
    {
     "name": "stdout",
     "output_type": "stream",
     "text": [
      "[ 0  0 15  0]\n",
      "0.0\n",
      "False\n"
     ]
    }
   ],
   "source": [
    "action = [15]\n",
    "# testing the step function\n",
    "newState, reward,  done, info = env1.step(action)\n",
    "print(newState)\n",
    "print(reward)\n",
    "print(done)"
   ]
  },
  {
   "cell_type": "code",
   "execution_count": 6,
   "id": "77c298df",
   "metadata": {},
   "outputs": [
    {
     "name": "stdout",
     "output_type": "stream",
     "text": [
      "[ 0 15 15  0]\n",
      "-1500.0\n",
      "False\n"
     ]
    }
   ],
   "source": [
    "newState, reward,  done, info = env1.step(action)\n",
    "print(newState)\n",
    "print(reward)\n",
    "print(done)"
   ]
  },
  {
   "cell_type": "code",
   "execution_count": 7,
   "id": "e4aafbcc",
   "metadata": {},
   "outputs": [
    {
     "name": "stdout",
     "output_type": "stream",
     "text": [
      "[15 15 15  0]\n",
      "-1500.0\n",
      "False\n"
     ]
    }
   ],
   "source": [
    "newState, reward,  done, info = env1.step(action)\n",
    "print(newState)\n",
    "print(reward)\n",
    "print(done)"
   ]
  },
  {
   "cell_type": "code",
   "execution_count": 20,
   "id": "03ba31d6",
   "metadata": {},
   "outputs": [
    {
     "name": "stdout",
     "output_type": "stream",
     "text": [
      "[15 15 15 82]\n",
      "-1575.0\n",
      "False\n"
     ]
    }
   ],
   "source": [
    "newState, reward,  done, info = env1.step(action)\n",
    "print(newState)\n",
    "print(reward)\n",
    "print(done)"
   ]
  },
  {
   "cell_type": "markdown",
   "id": "53abf347",
   "metadata": {},
   "source": [
    "# Two Suppliers"
   ]
  },
  {
   "cell_type": "code",
   "execution_count": 2,
   "id": "72099f4a",
   "metadata": {},
   "outputs": [],
   "source": [
    "CONFIG = or_suite.envs.env_configs.inventory_control_multiple_suppliers_default_config"
   ]
  },
  {
   "cell_type": "code",
   "execution_count": 3,
   "id": "d2b22b0c",
   "metadata": {},
   "outputs": [],
   "source": [
    "# making an instance of the environment\n",
    "env = gym.make('MultipleSuppliers-v0', config=CONFIG)"
   ]
  },
  {
   "cell_type": "code",
   "execution_count": 4,
   "id": "aa4416ce",
   "metadata": {},
   "outputs": [
    {
     "name": "stdout",
     "output_type": "stream",
     "text": [
      "[0 0 0 0 0 0 0]\n",
      "MultiDiscrete([21 21])\n",
      "MultiDiscrete([  21   21   21   21   21   21 1000])\n"
     ]
    }
   ],
   "source": [
    "print(env.state)\n",
    "print(env.action_space)\n",
    "print(env.observation_space)"
   ]
  },
  {
   "cell_type": "code",
   "execution_count": 5,
   "id": "90fca8f6",
   "metadata": {},
   "outputs": [
    {
     "name": "stdout",
     "output_type": "stream",
     "text": [
      "[ 0  0  0  0  1 15  0]\n",
      "0.0\n",
      "False\n"
     ]
    }
   ],
   "source": [
    "action = [1,15]\n",
    "# testing the step function\n",
    "newState, reward,  done, info = env.step(action)\n",
    "print(newState)\n",
    "print(reward)\n",
    "print(done)"
   ]
  },
  {
   "cell_type": "code",
   "execution_count": 8,
   "id": "fda7c643",
   "metadata": {},
   "outputs": [
    {
     "name": "stdout",
     "output_type": "stream",
     "text": [
      "[ 0  1  1  1  1 15 19]\n",
      "-113.0\n",
      "False\n",
      "9\n"
     ]
    }
   ],
   "source": [
    "newState, reward,  done, info = env.step(action)\n",
    "print(newState)\n",
    "print(reward)\n",
    "print(done)\n",
    "print(info['demand'])"
   ]
  },
  {
   "cell_type": "code",
   "execution_count": 7,
   "id": "8c96a913",
   "metadata": {},
   "outputs": [
    {
     "name": "stdout",
     "output_type": "stream",
     "text": [
      "[ 0  0  1  1  1 15  6]\n",
      "-100.0\n",
      "False\n"
     ]
    }
   ],
   "source": [
    "newState, reward,  done, info = env.step(action)\n",
    "print(newState)\n",
    "print(reward)\n",
    "print(done)"
   ]
  },
  {
   "cell_type": "code",
   "execution_count": 8,
   "id": "7a52dd1a",
   "metadata": {},
   "outputs": [
    {
     "name": "stdout",
     "output_type": "stream",
     "text": [
      "[ 0  1  1  1  1 15  9]\n",
      "-106.0\n",
      "False\n"
     ]
    }
   ],
   "source": [
    "newState, reward,  done, info = env.step(action)\n",
    "print(newState)\n",
    "print(reward)\n",
    "print(done)"
   ]
  },
  {
   "cell_type": "code",
   "execution_count": 9,
   "id": "1c6eb037",
   "metadata": {},
   "outputs": [],
   "source": [
    "from stable_baselines3.common.env_checker import check_env\n",
    "check_env(env, skip_render_check=True)"
   ]
  },
  {
   "cell_type": "markdown",
   "id": "d134d1c9",
   "metadata": {},
   "source": [
    "# Four Suppliers"
   ]
  },
  {
   "cell_type": "code",
   "execution_count": null,
   "id": "ac861ba0",
   "metadata": {},
   "outputs": [],
   "source": [
    "CONFIG4 = {'L':[3, 2, 5, 1], 'c': [100, 200, 50, 1000], 'lambda': 10, 'h':1, 'b':19, 'max_inventory':500, 'max_order':100, 'epLen':500}"
   ]
  },
  {
   "cell_type": "code",
   "execution_count": null,
   "id": "45bb4a83",
   "metadata": {},
   "outputs": [],
   "source": [
    "env4 = gym.make('MultipleSuppliers-v0', config = CONFIG4)"
   ]
  },
  {
   "cell_type": "code",
   "execution_count": null,
   "id": "27cf4faa",
   "metadata": {},
   "outputs": [],
   "source": [
    "print(env4.state)\n",
    "print(env4.action_space)\n",
    "print(env4.observation_space)"
   ]
  },
  {
   "cell_type": "code",
   "execution_count": null,
   "id": "7b3ef232",
   "metadata": {},
   "outputs": [],
   "source": [
    "action = [15, 2, 7, 8]\n",
    "# testing the step function\n",
    "newState, reward,  done, info = env4.step(action)\n",
    "print(newState)\n",
    "print(reward)\n",
    "print(done)"
   ]
  },
  {
   "cell_type": "code",
   "execution_count": null,
   "id": "8eb3ca62",
   "metadata": {},
   "outputs": [],
   "source": [
    "newState, reward,  done, info = env4.step(action)\n",
    "print(newState)\n",
    "print(reward)\n",
    "print(done)"
   ]
  },
  {
   "cell_type": "code",
   "execution_count": null,
   "id": "69b0d1e6",
   "metadata": {},
   "outputs": [],
   "source": [
    "newState, reward,  done, info = env4.step(action)\n",
    "print(newState)\n",
    "print(reward)\n",
    "print(done)"
   ]
  },
  {
   "cell_type": "code",
   "execution_count": null,
   "id": "a45d03aa",
   "metadata": {},
   "outputs": [],
   "source": [
    "newState, reward,  done, info = env4.step(action)\n",
    "print(newState)\n",
    "print(reward)\n",
    "print(done)"
   ]
  },
  {
   "cell_type": "markdown",
   "id": "a987cbb4",
   "metadata": {},
   "source": [
    "# Vaccine Allotment Code Demonstration\n",
    "\n",
    "Reinforcement learning (RL) is a natural model for problems involving real-time sequential decision making. In these models, a principal interacts with a system having stochastic transitions and rewards and aims to control the system online (by exploring available actions using real-time feedback) or offline (by exploiting known properties of the system).\n",
    "\n",
    "This project revolves around providing a unified landscape on scaling reinforcement learning algorithms to operations research domains.\n",
    "\n",
    "In this notebook we walk through generating plots, and applying the problem to the `vaccine allotment` problem with a population of size $P$ split into four risk classes, a discrete state space $\\mathcal{S} = \\{0, 1, 2, \\ldots, P\\}^{11}$, and a discrete action space consisting of \"priority orders\" corresponding to how we allot vaccines to the four risk classes. In this case, a valid priority order is one of two options: \n",
    "1. an empty list -- interpreted as no priority order, meaning we vaccinate the population randomly\n",
    "2. a permutation of the numbers $\\{1,2,3,4\\}$ -- interpreted as the order in which we vaccinate the risk classes"
   ]
  },
  {
   "cell_type": "markdown",
   "id": "7e8980f9",
   "metadata": {},
   "source": [
    "### Step 1: Import Required Packages\n",
    "\n",
    "The main package for ORSuite is contained in `or_suite`.  However, some additional packages may be required for specific environments / algorithms.  Here, we include `stable baselines`, a package containing implementation for state of the art deep RL algorithms, and `matploblib` for the plotting."
   ]
  },
  {
   "cell_type": "code",
   "execution_count": 10,
   "id": "8c946b27",
   "metadata": {},
   "outputs": [],
   "source": [
    "import or_suite\n",
    "import gym\n",
    "import matplotlib.pyplot as plt\n",
    "from stable_baselines3.common.monitor import Monitor\n",
    "from stable_baselines3 import PPO\n",
    "from stable_baselines3.ppo import MlpPolicy\n",
    "import numpy as np\n",
    "import pickle"
   ]
  },
  {
   "cell_type": "markdown",
   "id": "20ae0577",
   "metadata": {},
   "source": [
    "### Step 2: Pick problem parameters for the environment\n",
    "\n",
    "Here we use the ambulance metric environment as outlined in `or_suite/envs/ambulance/ambulance_metric.py`.  The package has default specifications for all of the environments in the file `or_suite/envs/env_configs.py`, and so we use one the default for the ambulance problem in a metric space.\n",
    "\n",
    "In addition, we need to specify the number of episodes for learning, and the number of iterations (in order to plot average results with confidence intervals)."
   ]
  },
  {
   "cell_type": "code",
   "execution_count": 11,
   "id": "d9ef9b07",
   "metadata": {},
   "outputs": [],
   "source": [
    "DEFAULT_CONFIG = or_suite.envs.env_configs.vaccine_default_config1\n",
    "epLen = DEFAULT_CONFIG['epLen']\n",
    "nEps = 200\n",
    "numIters = 5"
   ]
  },
  {
   "cell_type": "markdown",
   "id": "f0b32bdd",
   "metadata": {},
   "source": [
    "### Step 3: Pick simulation parameters\n",
    "\n",
    "Next we need to specify parameters for the simulation.  This includes setting a seed, the frequency to record the metrics, directory path for saving the data files, a deBug mode which prints the trajectory, etc."
   ]
  },
  {
   "cell_type": "code",
   "execution_count": 12,
   "id": "5c1448c8",
   "metadata": {
    "scrolled": false
   },
   "outputs": [],
   "source": [
    "DEFAULT_SETTINGS = {'seed': 1, \n",
    "                    'recFreq': 1, \n",
    "                    'dirPath': '../data/vaccine/', \n",
    "                    'deBug': False, \n",
    "                    'nEps': nEps, \n",
    "                    'numIters': numIters,\n",
    "                    'render': False,\n",
    "                    'saveTrajectory': True, \n",
    "                    'epLen' : 5,\n",
    "                    'pickle': False}\n",
    "\n",
    "vaccine_env = gym.make('Vaccine-v0', config=DEFAULT_CONFIG)\n",
    "mon_env = Monitor(vaccine_env)"
   ]
  },
  {
   "cell_type": "markdown",
   "id": "6f5929e0",
   "metadata": {},
   "source": [
    "### Step 4: Pick list of algorithms\n",
    "\n",
    "We have several heuristics implemented for each of the environments defined, in addition to a `random` policy, and some `RL discretization based` algorithms.  Here we pick a couple of the heuristics, and a PPO algorithm implemented from `stable baselines` just to test."
   ]
  },
  {
   "cell_type": "code",
   "execution_count": 13,
   "id": "65c33f87",
   "metadata": {},
   "outputs": [
    {
     "name": "stderr",
     "output_type": "stream",
     "text": [
      "/Users/davidwolfers/opt/anaconda3/envs/ORSuite/lib/python3.8/site-packages/stable_baselines3/ppo/ppo.py:131: UserWarning: You have specified a mini-batch size of 64, but because the `RolloutBuffer` is of size `n_steps * n_envs = 4`, after every 0 untruncated mini-batches, there will be a truncated mini-batch of size 4\n",
      "We recommend using a `batch_size` that is a multiple of `n_steps * n_envs`.\n",
      "Info: (n_steps=4 and n_envs=1)\n",
      "  warnings.warn(\n"
     ]
    }
   ],
   "source": [
    "agents = {'Random': or_suite.agents.rl.random.randomAgent(),\n",
    "          'SB PPO': PPO(MlpPolicy, mon_env, gamma=1, verbose=0, n_steps=epLen),\n",
    "          }"
   ]
  },
  {
   "cell_type": "markdown",
   "id": "deb1ef16",
   "metadata": {},
   "source": [
    "### Step 5: Run simulations"
   ]
  },
  {
   "cell_type": "code",
   "execution_count": 14,
   "id": "26c529e9",
   "metadata": {},
   "outputs": [],
   "source": [
    "# or_suite.utils.run_single_algo(mon_env, agents['Random'], DEFAULT_SETTINGS)"
   ]
  },
  {
   "cell_type": "code",
   "execution_count": null,
   "id": "90368e8a",
   "metadata": {},
   "outputs": [
    {
     "name": "stdout",
     "output_type": "stream",
     "text": [
      "Random\n",
      "**************************************************\n",
      "Running experiment\n",
      "**************************************************\n",
      " We've reached vaccination event number 100.0\n",
      " We've reached vaccination event number 200.0\n",
      " We've reached vaccination event number 300.0\n",
      " We've reached vaccination event number 400.0\n",
      " We've reached vaccination event number 500.0\n",
      " We've reached vaccination event number 600.0\n",
      " We've reached vaccination event number 700.0\n",
      " We've reached vaccination event number 100.0\n",
      " We've reached vaccination event number 200.0\n",
      " We've reached vaccination event number 300.0\n",
      " We've reached vaccination event number 400.0\n",
      " We've reached vaccination event number 500.0\n",
      " We've reached vaccination event number 600.0\n",
      " We've reached vaccination event number 700.0\n",
      " We've reached vaccination event number 100.0\n",
      " We've reached vaccination event number 200.0\n",
      " We've reached vaccination event number 300.0\n",
      " We've reached vaccination event number 400.0\n",
      " We've reached vaccination event number 500.0\n",
      " We've reached vaccination event number 600.0\n",
      " We've reached vaccination event number 700.0\n",
      " We've reached vaccination event number 100.0\n",
      " We've reached vaccination event number 200.0\n",
      " We've reached vaccination event number 300.0\n",
      " We've reached vaccination event number 400.0\n",
      " We've reached vaccination event number 500.0\n",
      " We've reached vaccination event number 600.0\n",
      " We've reached vaccination event number 700.0\n",
      " We've reached vaccination event number 100.0\n",
      " We've reached vaccination event number 200.0\n",
      " We've reached vaccination event number 300.0\n",
      " We've reached vaccination event number 400.0\n",
      " We've reached vaccination event number 500.0\n",
      " We've reached vaccination event number 600.0\n",
      " We've reached vaccination event number 700.0\n",
      " We've reached vaccination event number 100.0\n",
      " We've reached vaccination event number 200.0\n",
      " We've reached vaccination event number 300.0\n",
      " We've reached vaccination event number 400.0\n",
      " We've reached vaccination event number 500.0\n",
      " We've reached vaccination event number 600.0\n",
      " We've reached vaccination event number 700.0\n",
      " We've reached vaccination event number 100.0\n",
      " We've reached vaccination event number 200.0\n",
      " We've reached vaccination event number 300.0\n",
      " We've reached vaccination event number 400.0\n",
      " We've reached vaccination event number 500.0\n",
      " We've reached vaccination event number 600.0\n",
      " We've reached vaccination event number 700.0\n",
      " We've reached vaccination event number 100.0\n",
      " We've reached vaccination event number 200.0\n",
      " We've reached vaccination event number 300.0\n",
      " We've reached vaccination event number 400.0\n",
      " We've reached vaccination event number 500.0\n",
      " We've reached vaccination event number 600.0\n",
      " We've reached vaccination event number 700.0\n",
      " We've reached vaccination event number 100.0\n",
      " We've reached vaccination event number 200.0\n",
      " We've reached vaccination event number 300.0\n",
      " We've reached vaccination event number 400.0\n",
      " We've reached vaccination event number 500.0\n",
      " We've reached vaccination event number 600.0\n",
      " We've reached vaccination event number 700.0\n",
      " We've reached vaccination event number 100.0\n",
      " We've reached vaccination event number 200.0\n",
      " We've reached vaccination event number 300.0\n",
      " We've reached vaccination event number 400.0\n",
      " We've reached vaccination event number 500.0\n",
      " We've reached vaccination event number 600.0\n",
      " We've reached vaccination event number 700.0\n",
      " We've reached vaccination event number 100.0\n",
      " We've reached vaccination event number 200.0\n",
      " We've reached vaccination event number 300.0\n",
      " We've reached vaccination event number 400.0\n",
      " We've reached vaccination event number 500.0\n",
      " We've reached vaccination event number 600.0\n",
      " We've reached vaccination event number 700.0\n",
      " We've reached vaccination event number 100.0\n",
      " We've reached vaccination event number 200.0\n",
      " We've reached vaccination event number 300.0\n",
      " We've reached vaccination event number 400.0\n",
      " We've reached vaccination event number 500.0\n",
      " We've reached vaccination event number 600.0\n",
      " We've reached vaccination event number 700.0\n",
      " We've reached vaccination event number 100.0\n",
      " We've reached vaccination event number 200.0\n",
      " We've reached vaccination event number 300.0\n",
      " We've reached vaccination event number 400.0\n",
      " We've reached vaccination event number 500.0\n",
      " We've reached vaccination event number 600.0\n",
      " We've reached vaccination event number 700.0\n",
      " We've reached vaccination event number 100.0\n",
      " We've reached vaccination event number 200.0\n",
      " We've reached vaccination event number 300.0\n",
      " We've reached vaccination event number 400.0\n",
      " We've reached vaccination event number 500.0\n",
      " We've reached vaccination event number 600.0\n",
      " We've reached vaccination event number 700.0\n",
      " We've reached vaccination event number 100.0\n",
      " We've reached vaccination event number 200.0\n",
      " We've reached vaccination event number 300.0\n",
      " We've reached vaccination event number 400.0\n",
      " We've reached vaccination event number 500.0\n",
      " We've reached vaccination event number 600.0\n",
      " We've reached vaccination event number 700.0\n",
      " We've reached vaccination event number 100.0\n",
      " We've reached vaccination event number 200.0\n",
      " We've reached vaccination event number 300.0\n",
      " We've reached vaccination event number 400.0\n",
      " We've reached vaccination event number 500.0\n",
      " We've reached vaccination event number 600.0\n",
      " We've reached vaccination event number 700.0\n",
      " We've reached vaccination event number 100.0\n",
      " We've reached vaccination event number 200.0\n",
      " We've reached vaccination event number 300.0\n",
      " We've reached vaccination event number 400.0\n",
      " We've reached vaccination event number 500.0\n",
      " We've reached vaccination event number 600.0\n",
      " We've reached vaccination event number 700.0\n",
      " We've reached vaccination event number 100.0\n",
      " We've reached vaccination event number 200.0\n",
      " We've reached vaccination event number 300.0\n",
      " We've reached vaccination event number 400.0\n",
      " We've reached vaccination event number 500.0\n",
      " We've reached vaccination event number 600.0\n",
      " We've reached vaccination event number 700.0\n",
      " We've reached vaccination event number 100.0\n",
      " We've reached vaccination event number 200.0\n",
      " We've reached vaccination event number 300.0\n",
      " We've reached vaccination event number 400.0\n",
      " We've reached vaccination event number 500.0\n",
      " We've reached vaccination event number 600.0\n",
      " We've reached vaccination event number 700.0\n",
      " We've reached vaccination event number 100.0\n",
      " We've reached vaccination event number 200.0\n",
      " We've reached vaccination event number 300.0\n",
      " We've reached vaccination event number 400.0\n",
      " We've reached vaccination event number 500.0\n",
      " We've reached vaccination event number 600.0\n",
      " We've reached vaccination event number 700.0\n",
      " We've reached vaccination event number 100.0\n",
      " We've reached vaccination event number 200.0\n",
      " We've reached vaccination event number 300.0\n",
      " We've reached vaccination event number 400.0\n",
      " We've reached vaccination event number 500.0\n",
      " We've reached vaccination event number 600.0\n",
      " We've reached vaccination event number 700.0\n",
      " We've reached vaccination event number 100.0\n",
      " We've reached vaccination event number 200.0\n",
      " We've reached vaccination event number 300.0\n",
      " We've reached vaccination event number 400.0\n",
      " We've reached vaccination event number 500.0\n",
      " We've reached vaccination event number 600.0\n",
      " We've reached vaccination event number 700.0\n",
      " We've reached vaccination event number 100.0\n",
      " We've reached vaccination event number 200.0\n",
      " We've reached vaccination event number 300.0\n",
      " We've reached vaccination event number 400.0\n",
      " We've reached vaccination event number 500.0\n",
      " We've reached vaccination event number 600.0\n",
      " We've reached vaccination event number 700.0\n",
      " We've reached vaccination event number 100.0\n",
      " We've reached vaccination event number 200.0\n",
      " We've reached vaccination event number 300.0\n",
      " We've reached vaccination event number 400.0\n",
      " We've reached vaccination event number 500.0\n",
      " We've reached vaccination event number 600.0\n",
      " We've reached vaccination event number 700.0\n",
      " We've reached vaccination event number 100.0\n",
      " We've reached vaccination event number 200.0\n",
      " We've reached vaccination event number 300.0\n",
      " We've reached vaccination event number 400.0\n",
      " We've reached vaccination event number 500.0\n",
      " We've reached vaccination event number 600.0\n",
      " We've reached vaccination event number 700.0\n",
      " We've reached vaccination event number 100.0\n",
      " We've reached vaccination event number 200.0\n",
      " We've reached vaccination event number 300.0\n",
      " We've reached vaccination event number 400.0\n",
      " We've reached vaccination event number 500.0\n"
     ]
    },
    {
     "name": "stdout",
     "output_type": "stream",
     "text": [
      " We've reached vaccination event number 600.0\n",
      " We've reached vaccination event number 700.0\n",
      " We've reached vaccination event number 100.0\n",
      " We've reached vaccination event number 200.0\n",
      " We've reached vaccination event number 300.0\n",
      " We've reached vaccination event number 400.0\n",
      " We've reached vaccination event number 500.0\n",
      " We've reached vaccination event number 600.0\n",
      " We've reached vaccination event number 700.0\n",
      " We've reached vaccination event number 100.0\n",
      " We've reached vaccination event number 200.0\n",
      " We've reached vaccination event number 300.0\n",
      " We've reached vaccination event number 400.0\n",
      " We've reached vaccination event number 500.0\n",
      " We've reached vaccination event number 600.0\n",
      " We've reached vaccination event number 700.0\n",
      " We've reached vaccination event number 100.0\n",
      " We've reached vaccination event number 200.0\n",
      " We've reached vaccination event number 300.0\n",
      " We've reached vaccination event number 400.0\n",
      " We've reached vaccination event number 500.0\n",
      " We've reached vaccination event number 600.0\n",
      " We've reached vaccination event number 700.0\n",
      " We've reached vaccination event number 100.0\n",
      " We've reached vaccination event number 200.0\n",
      " We've reached vaccination event number 300.0\n",
      " We've reached vaccination event number 400.0\n",
      " We've reached vaccination event number 500.0\n",
      " We've reached vaccination event number 600.0\n",
      " We've reached vaccination event number 700.0\n",
      " We've reached vaccination event number 100.0\n",
      " We've reached vaccination event number 200.0\n",
      " We've reached vaccination event number 300.0\n",
      " We've reached vaccination event number 400.0\n",
      " We've reached vaccination event number 500.0\n",
      " We've reached vaccination event number 600.0\n",
      " We've reached vaccination event number 700.0\n",
      " We've reached vaccination event number 100.0\n",
      " We've reached vaccination event number 200.0\n",
      " We've reached vaccination event number 300.0\n",
      " We've reached vaccination event number 400.0\n",
      " We've reached vaccination event number 500.0\n",
      " We've reached vaccination event number 600.0\n",
      " We've reached vaccination event number 700.0\n",
      " We've reached vaccination event number 100.0\n",
      " We've reached vaccination event number 200.0\n",
      " We've reached vaccination event number 300.0\n",
      " We've reached vaccination event number 400.0\n",
      " We've reached vaccination event number 500.0\n",
      " We've reached vaccination event number 600.0\n",
      " We've reached vaccination event number 700.0\n",
      " We've reached vaccination event number 100.0\n",
      " We've reached vaccination event number 200.0\n",
      " We've reached vaccination event number 300.0\n",
      " We've reached vaccination event number 400.0\n",
      " We've reached vaccination event number 500.0\n",
      " We've reached vaccination event number 600.0\n",
      " We've reached vaccination event number 700.0\n",
      " We've reached vaccination event number 100.0\n",
      " We've reached vaccination event number 200.0\n",
      " We've reached vaccination event number 300.0\n",
      " We've reached vaccination event number 400.0\n",
      " We've reached vaccination event number 500.0\n",
      " We've reached vaccination event number 600.0\n",
      " We've reached vaccination event number 700.0\n",
      " We've reached vaccination event number 100.0\n",
      " We've reached vaccination event number 200.0\n",
      " We've reached vaccination event number 300.0\n",
      " We've reached vaccination event number 400.0\n",
      " We've reached vaccination event number 500.0\n",
      " We've reached vaccination event number 600.0\n",
      " We've reached vaccination event number 700.0\n",
      " We've reached vaccination event number 100.0\n",
      " We've reached vaccination event number 200.0\n",
      " We've reached vaccination event number 300.0\n",
      " We've reached vaccination event number 400.0\n",
      " We've reached vaccination event number 500.0\n",
      " We've reached vaccination event number 600.0\n",
      " We've reached vaccination event number 700.0\n",
      " We've reached vaccination event number 100.0\n",
      " We've reached vaccination event number 200.0\n",
      " We've reached vaccination event number 300.0\n",
      " We've reached vaccination event number 400.0\n",
      " We've reached vaccination event number 500.0\n",
      " We've reached vaccination event number 600.0\n",
      " We've reached vaccination event number 700.0\n",
      " We've reached vaccination event number 100.0\n",
      " We've reached vaccination event number 200.0\n",
      " We've reached vaccination event number 300.0\n",
      " We've reached vaccination event number 400.0\n",
      " We've reached vaccination event number 500.0\n",
      " We've reached vaccination event number 600.0\n",
      " We've reached vaccination event number 700.0\n",
      " We've reached vaccination event number 100.0\n",
      " We've reached vaccination event number 200.0\n",
      " We've reached vaccination event number 300.0\n",
      " We've reached vaccination event number 400.0\n",
      " We've reached vaccination event number 500.0\n",
      " We've reached vaccination event number 600.0\n",
      " We've reached vaccination event number 700.0\n",
      " We've reached vaccination event number 100.0\n",
      " We've reached vaccination event number 200.0\n",
      " We've reached vaccination event number 300.0\n",
      " We've reached vaccination event number 400.0\n",
      " We've reached vaccination event number 500.0\n",
      " We've reached vaccination event number 600.0\n",
      " We've reached vaccination event number 700.0\n",
      " We've reached vaccination event number 100.0\n",
      " We've reached vaccination event number 200.0\n",
      " We've reached vaccination event number 300.0\n",
      " We've reached vaccination event number 400.0\n",
      " We've reached vaccination event number 500.0\n",
      " We've reached vaccination event number 600.0\n",
      " We've reached vaccination event number 700.0\n",
      " We've reached vaccination event number 100.0\n",
      " We've reached vaccination event number 200.0\n",
      " We've reached vaccination event number 300.0\n",
      " We've reached vaccination event number 400.0\n",
      " We've reached vaccination event number 500.0\n",
      " We've reached vaccination event number 600.0\n",
      " We've reached vaccination event number 700.0\n",
      " We've reached vaccination event number 100.0\n",
      " We've reached vaccination event number 200.0\n",
      " We've reached vaccination event number 300.0\n",
      " We've reached vaccination event number 400.0\n",
      " We've reached vaccination event number 500.0\n",
      " We've reached vaccination event number 600.0\n",
      " We've reached vaccination event number 700.0\n",
      " We've reached vaccination event number 100.0\n",
      " We've reached vaccination event number 200.0\n",
      " We've reached vaccination event number 300.0\n",
      " We've reached vaccination event number 400.0\n",
      " We've reached vaccination event number 500.0\n",
      " We've reached vaccination event number 600.0\n",
      " We've reached vaccination event number 700.0\n",
      " We've reached vaccination event number 100.0\n",
      " We've reached vaccination event number 200.0\n",
      " We've reached vaccination event number 300.0\n",
      " We've reached vaccination event number 400.0\n",
      " We've reached vaccination event number 500.0\n",
      " We've reached vaccination event number 600.0\n",
      " We've reached vaccination event number 700.0\n",
      " We've reached vaccination event number 100.0\n",
      " We've reached vaccination event number 200.0\n",
      " We've reached vaccination event number 300.0\n",
      " We've reached vaccination event number 400.0\n",
      " We've reached vaccination event number 500.0\n",
      " We've reached vaccination event number 600.0\n",
      " We've reached vaccination event number 700.0\n",
      " We've reached vaccination event number 100.0\n",
      " We've reached vaccination event number 200.0\n",
      " We've reached vaccination event number 300.0\n",
      " We've reached vaccination event number 400.0\n",
      " We've reached vaccination event number 500.0\n",
      " We've reached vaccination event number 600.0\n",
      " We've reached vaccination event number 700.0\n",
      " We've reached vaccination event number 100.0\n",
      " We've reached vaccination event number 200.0\n",
      " We've reached vaccination event number 300.0\n",
      " We've reached vaccination event number 400.0\n",
      " We've reached vaccination event number 500.0\n",
      " We've reached vaccination event number 600.0\n",
      " We've reached vaccination event number 700.0\n",
      " We've reached vaccination event number 100.0\n",
      " We've reached vaccination event number 200.0\n",
      " We've reached vaccination event number 300.0\n",
      " We've reached vaccination event number 400.0\n",
      " We've reached vaccination event number 500.0\n",
      " We've reached vaccination event number 600.0\n",
      " We've reached vaccination event number 700.0\n",
      " We've reached vaccination event number 100.0\n",
      " We've reached vaccination event number 200.0\n",
      " We've reached vaccination event number 300.0\n",
      " We've reached vaccination event number 400.0\n",
      " We've reached vaccination event number 500.0\n",
      " We've reached vaccination event number 600.0\n",
      " We've reached vaccination event number 700.0\n",
      " We've reached vaccination event number 100.0\n",
      " We've reached vaccination event number 200.0\n",
      " We've reached vaccination event number 300.0\n",
      " We've reached vaccination event number 400.0\n",
      " We've reached vaccination event number 500.0\n",
      " We've reached vaccination event number 600.0\n",
      " We've reached vaccination event number 700.0\n",
      " We've reached vaccination event number 100.0\n",
      " We've reached vaccination event number 200.0\n",
      " We've reached vaccination event number 300.0\n"
     ]
    },
    {
     "name": "stdout",
     "output_type": "stream",
     "text": [
      " We've reached vaccination event number 400.0\n",
      " We've reached vaccination event number 500.0\n",
      " We've reached vaccination event number 600.0\n",
      " We've reached vaccination event number 700.0\n",
      " We've reached vaccination event number 100.0\n",
      " We've reached vaccination event number 200.0\n",
      " We've reached vaccination event number 300.0\n",
      " We've reached vaccination event number 400.0\n",
      " We've reached vaccination event number 500.0\n",
      " We've reached vaccination event number 600.0\n",
      " We've reached vaccination event number 700.0\n",
      " We've reached vaccination event number 100.0\n",
      " We've reached vaccination event number 200.0\n",
      " We've reached vaccination event number 300.0\n",
      " We've reached vaccination event number 400.0\n",
      " We've reached vaccination event number 500.0\n",
      " We've reached vaccination event number 600.0\n",
      " We've reached vaccination event number 700.0\n",
      " We've reached vaccination event number 100.0\n",
      " We've reached vaccination event number 200.0\n",
      " We've reached vaccination event number 300.0\n",
      " We've reached vaccination event number 400.0\n",
      " We've reached vaccination event number 500.0\n",
      " We've reached vaccination event number 600.0\n",
      " We've reached vaccination event number 700.0\n",
      " We've reached vaccination event number 100.0\n",
      " We've reached vaccination event number 200.0\n",
      " We've reached vaccination event number 300.0\n",
      " We've reached vaccination event number 400.0\n",
      " We've reached vaccination event number 500.0\n",
      " We've reached vaccination event number 600.0\n",
      " We've reached vaccination event number 700.0\n",
      " We've reached vaccination event number 100.0\n",
      " We've reached vaccination event number 200.0"
     ]
    }
   ],
   "source": [
    "for agent in agents:\n",
    "    print(agent)\n",
    "    DEFAULT_SETTINGS['dirPath'] = '../data/vaccine_metric_test_'+str(agent)+'/'\n",
    "    if agent == 'SB PPO':\n",
    "        or_suite.utils.run_single_sb_algo(mon_env, agents[agent], DEFAULT_SETTINGS)\n",
    "    else:\n",
    "        or_suite.utils.run_single_algo(mon_env, agents[agent], DEFAULT_SETTINGS)"
   ]
  },
  {
   "cell_type": "markdown",
   "id": "0c037d2e",
   "metadata": {},
   "source": [
    "### Step 6: Generate figures"
   ]
  },
  {
   "cell_type": "code",
   "execution_count": null,
   "id": "1f0ee7e0",
   "metadata": {},
   "outputs": [],
   "source": [
    "'''\n",
    "# Plots for just the random agent\n",
    "\n",
    "path_list_line = []\n",
    "path_list_radar = []\n",
    "algo_list_line = []\n",
    "algo_list_radar = []\n",
    "\n",
    "#print(str(agents['Random']))\n",
    "path_list_line.append('../data/vaccine_metric_test_'+'Random')\n",
    "algo_list_line.append(\"Random\")\n",
    "path_list_radar.append('../data/vaccine_metric_test_'+'Random'+'/')\n",
    "algo_list_radar.append(\"Random\")\n",
    "'''"
   ]
  },
  {
   "cell_type": "code",
   "execution_count": null,
   "id": "8874c96b",
   "metadata": {},
   "outputs": [],
   "source": [
    "'''\n",
    "# Plots for just the random agent\n",
    "\n",
    "fig_path = '../figures/'\n",
    "fig_name = 'test_vaccine_metric.pdf'\n",
    "\n",
    "or_suite.plots.plot_line_plots(path_list_line, algo_list_line, fig_path, fig_name, int(nEps / 40) + 1)\n",
    "'''"
   ]
  },
  {
   "cell_type": "code",
   "execution_count": null,
   "id": "fac7ba07",
   "metadata": {},
   "outputs": [],
   "source": [
    "#additional_metric = {'MRT': lambda traj : or_suite.utils.mean_response_time(traj, lambda x, y : np.abs(x-y))}\n",
    "\n",
    "#or_suite.plots.plot_radar_plots(path_list_radar, algo_list_radar, fig_path, fig_name, None)"
   ]
  },
  {
   "cell_type": "code",
   "execution_count": null,
   "id": "95127d58",
   "metadata": {},
   "outputs": [],
   "source": [
    "import os\n",
    "os.getcwd()"
   ]
  },
  {
   "cell_type": "code",
   "execution_count": null,
   "id": "70833ba6",
   "metadata": {},
   "outputs": [],
   "source": [
    "path_list_line = []\n",
    "path_list_radar = []\n",
    "algo_list_line = []\n",
    "algo_list_radar = []\n",
    "\n",
    "for agent in agents:\n",
    "    print(str(agent))\n",
    "    path_list_line.append('../data/vaccine_metric_test_'+str(agent))\n",
    "    algo_list_line.append(str(agent))\n",
    "    if agent != 'SB PPO':    \n",
    "        path_list_radar.append('../data/vaccine_metric_test_'+str(agent)+'/')\n",
    "        algo_list_radar.append(str(agent))\n",
    "\n",
    "    \n",
    "\n",
    "fig_path = '../figures/'\n",
    "fig_name1 = 'test_vaccine_metric_line.pdf'\n",
    "fig_name2 = 'test_vaccine_metric_radar.pdf'\n",
    "\n",
    "or_suite.plots.plot_line_plots(path_list_line, algo_list_line, fig_path, fig_name1, int(nEps / 40) + 1)"
   ]
  },
  {
   "cell_type": "code",
   "execution_count": null,
   "id": "18340c62",
   "metadata": {},
   "outputs": [],
   "source": [
    "additional_metric = None\n",
    "\n",
    "or_suite.plots.plot_radar_plots(path_list_radar, algo_list_radar, fig_path, fig_name2, additional_metric)"
   ]
  },
  {
   "cell_type": "code",
   "execution_count": null,
   "id": "4a5a6cc2",
   "metadata": {},
   "outputs": [],
   "source": []
  }
 ],
 "metadata": {
  "kernelspec": {
   "display_name": "Python 3",
   "language": "python",
   "name": "python3"
  },
  "language_info": {
   "codemirror_mode": {
    "name": "ipython",
    "version": 3
   },
   "file_extension": ".py",
   "mimetype": "text/x-python",
   "name": "python",
   "nbconvert_exporter": "python",
   "pygments_lexer": "ipython3",
   "version": "3.8.5"
  }
 },
 "nbformat": 4,
 "nbformat_minor": 5
}
