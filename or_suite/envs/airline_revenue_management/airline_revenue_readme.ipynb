{
 "cells": [
  {
   "cell_type": "markdown",
   "metadata": {},
   "source": [
    "# Revenue Management"
   ]
  },
  {
   "cell_type": "markdown",
   "metadata": {},
   "source": [
    "## Description\n",
    "\n",
    "Online revenue management (also known as online stochastic bin packing) considers managing different available resources consumed by different classes of customers in order to maximize revenue.  In this environment, we model multiplie types of resources with some initial availability.  At each iteration, the algorithm designer decides in the current time step whether or not to accept customers from a given class.  One a customer of a given class comes and arrives to the system, if the agent decides to fulfill their request, they utilize some amount of the different resources and provide an amount of revenue.  At a high level, then, the goal of the agent is to chose which types of customers to accept at every iteration in order to maximize the total revenue."
   ]
  },
  {
   "cell_type": "markdown",
   "metadata": {},
   "source": [
    "## Model Assumptions\n",
    "* Customers who are denied are not allowed to purchase resources later even if those resources are available. This did not extend to customer classes, though. A customer may be allowed to purchase resources even if another customer of the same class was denied at an earlier (or later) timestep."
   ]
  },
  {
   "cell_type": "markdown",
   "metadata": {},
   "source": [
    "## Dynamics\n",
    "\n",
    "### State Space\n",
    "The state space is the set of all possible available seats for every flight into and out of each location up to the full capacities. \n",
    "$ S = [0, B_1] \\times [0, B_2] \\times ... \\times [0, B_k] $ where $ B_i $ is the maximum availability of resource type $ i $ and $ k $ is the number of resource types.\n",
    "\n",
    "### Action Space\n",
    "The action space is all possible binary vectors of length $ n $ which tells you whether a\n",
    "customer class is accepted or declined by the company, where n is the number of customer classes.\n",
    "$ A = {\\{0, 1\\}}^n $\n",
    "\n",
    "### Reward\n",
    "The one-step reward is the revenue gained from selling resources to the customer class that arrives. If resources are not sold (because the customer is denied or the resources desired are not available), then the reward is zero.\n",
    "\n",
    "### Transitions\n",
    "\n",
    "Given an arrival $ P_t $ of type $ j_t \\in [n] $ or $\\empty$ :\n",
    "* if $\\empty$ then $ S_{t+1} = S_t $ with $ reward = 0 $\n",
    "* if $ j_t $ :\n",
    "  * if $ a_{j_t} = 0 $ then $ S_{t+1} = S_t $ with $ reward = 0 $\n",
    "  * if $ a_{j_t} = 1 $ and $ S_t - A_{j_t}^T ≥ 0 $ then $ S_{t + 1} = S_t - A_{j_t}^T $ with $ reward = f_{j_t} $"
   ]
  },
  {
   "cell_type": "markdown",
   "metadata": {},
   "source": [
    "## Environment"
   ]
  },
  {
   "cell_type": "markdown",
   "metadata": {},
   "source": [
    "## Heuristic Agents"
   ]
  }
 ],
 "metadata": {
  "kernelspec": {
   "display_name": "Python 3.8.10 64-bit ('cbmdp': conda)",
   "name": "python3810jvsc74a57bd0c557101135ed018de0d8da8e9d267afef0a8f2b6f74cc2a6023e1d8271dbdb5c"
  },
  "language_info": {
   "name": "python",
   "version": ""
  },
  "metadata": {
   "interpreter": {
    "hash": "c557101135ed018de0d8da8e9d267afef0a8f2b6f74cc2a6023e1d8271dbdb5c"
   }
  },
  "orig_nbformat": 4
 },
 "nbformat": 4,
 "nbformat_minor": 2
}