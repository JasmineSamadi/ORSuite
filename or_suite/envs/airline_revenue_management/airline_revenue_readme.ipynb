{
 "cells": [
  {
   "cell_type": "markdown",
   "source": [
    "# Revenue Management"
   ],
   "metadata": {}
  },
  {
   "cell_type": "markdown",
   "source": [
    "## Description\n",
    "One potential application of reinforcement learning involves managing different available resources consumed by different classes of customers to maximize revenue. \n",
    "\n",
    "The revenue management problem addresses the problem by modeling an environment where there are multiple types of resources with the same initial availability. There is also a deadline for each resource to be purchased. Different classes of customers arrive and wish to purchase different numbers of each resource, but the agent can choose whether or not to accept the customer. The goal of the agent is to choose when to accept different classes of customers to maximize revenue.\n",
    "\n",
    "At each time step, the agent first chooses whether it will accept or deny each class of cusotmer. Then, one customer (or no customer) will arrive probabilistically. The customer will then be able to purchase the desired resources if accepted, which will be reflected by updating the available number of resources, or they will be denied, in which case the available numbers are not affected. The reward is calculated in correlation to how much the customer purchased of each type of resource (the revenue) or if no purchases were made.\n"
   ],
   "metadata": {}
  },
  {
   "cell_type": "markdown",
   "source": [
    "## Model Assumptions\n",
    "* Customers who are denied are not allowed to purchase resources later even if those resources are available. This did not extend to customer classes, though. A customer may be allowed to purchase resources even if another customer of the same class was denied at an earlier (or later) timestep."
   ],
   "metadata": {}
  },
  {
   "cell_type": "markdown",
   "source": [
    "## Dynamics\n",
    "\n",
    "### State Space\n",
    "The state space is the set of all possible available seats for every flight into and out of each location up to the full capacities. \n",
    "$ S = [0, B_1] \\times [0, B_2] \\times ... \\times [0, B_k] $ where $ B_i $ is the maximum availability of resource type $ i $ and $ k $ is the number of resource types.\n",
    "\n",
    "### Action Space\n",
    "The action space is all possible binary vectors of length $ n $ which tells you whether a\n",
    "customer class is accepted or declined by the company, where n is the number of customer classes.\n",
    "$ A = {\\{0, 1\\}}^n $\n",
    "\n",
    "### Reward\n",
    "The one-step reward is the revenue gained from selling resources to the customer class that arrives. If resources are not sold (because the customer is denied or the resources desired are not available), then the reward is zero.\n",
    "\n",
    "### Transitions\n",
    "\n",
    "Given an arrival $ P_t $ of type $ j_t \\in [n] $ or $\\empty$ :\n",
    "* if $\\empty$ then $ S_{t+1} = S_t $ with $ reward = 0 $\n",
    "* if $ j_t $ :\n",
    "  * if $ a_{j_t} = 0 $ then $ S_{t+1} = S_t $ with $ reward = 0 $\n",
    "  * if $ a_{j_t} = 1 $ and $ S_t - A_{j_t}^T ≥ 0 $ then $ S_{t + 1} = S_t - A_{j_t}^T $ with $ reward = f_{j_t} $"
   ],
   "metadata": {}
  },
  {
   "cell_type": "markdown",
   "source": [
    "## Environment"
   ],
   "metadata": {}
  },
  {
   "cell_type": "markdown",
   "source": [
    "## Heuristic Agents"
   ],
   "metadata": {}
  }
 ],
 "metadata": {
  "orig_nbformat": 4,
  "language_info": {
   "name": "python"
  }
 },
 "nbformat": 4,
 "nbformat_minor": 2
}