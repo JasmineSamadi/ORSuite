{
 "cells": [
  {
   "cell_type": "code",
   "execution_count": 1,
   "id": "54262089",
   "metadata": {},
   "outputs": [],
   "source": [
    "import or_suite\n",
    "import numpy as np\n",
    "\n",
    "import copy\n",
    "\n",
    "import os\n",
    "from stable_baselines3.common.monitor import Monitor\n",
    "from stable_baselines3 import PPO\n",
    "from stable_baselines3.ppo import MlpPolicy\n",
    "from stable_baselines3.common.env_util import make_vec_env\n",
    "from stable_baselines3.common.evaluation import evaluate_policy\n",
    "import pandas as pd\n",
    "\n",
    "\n",
    "import gym"
   ]
  },
  {
   "cell_type": "markdown",
   "id": "696d9301",
   "metadata": {},
   "source": [
    "## Set Global Parameters for Experiments"
   ]
  },
  {
   "cell_type": "code",
   "execution_count": 2,
   "id": "5284b6ff",
   "metadata": {},
   "outputs": [],
   "source": [
    "neg_inventory = False\n",
    "epLen = 100\n",
    "nEps = 2\n",
    "numIters = 10"
   ]
  },
  {
   "cell_type": "markdown",
   "id": "74e0ddbf",
   "metadata": {},
   "source": [
    "### Two Suppliers"
   ]
  },
  {
   "cell_type": "code",
   "execution_count": 3,
   "id": "exclusive-roots",
   "metadata": {},
   "outputs": [
    {
     "name": "stdout",
     "output_type": "stream",
     "text": [
      "100\n"
     ]
    }
   ],
   "source": [
    "CONFIG =  or_suite.envs.env_configs.inventory_control_multiple_suppliers_modified_config\n",
    "CONFIG['neg_inventory'] = neg_inventory\n",
    "CONFIG['demand_dist'] = lambda x: 10\n",
    "# CONFIG = or_suite.envs.env_configs.oil_environment_default_config\n",
    "CONFIG['epLen'] = epLen\n",
    "print(epLen)\n"
   ]
  },
  {
   "cell_type": "code",
   "execution_count": 4,
   "id": "noticed-keyboard",
   "metadata": {},
   "outputs": [],
   "source": [
    "env = gym.make('MultipleSuppliers-v0', config=CONFIG)\n",
    "mon_env = Monitor(env)"
   ]
  },
  {
   "cell_type": "code",
   "execution_count": 5,
   "id": "comprehensive-amplifier",
   "metadata": {},
   "outputs": [],
   "source": [
    "agent = or_suite.agents.inventory_control_multiple_suppliers.base_surge.base_surgeAgent([14],5)"
   ]
  },
  {
   "cell_type": "code",
   "execution_count": 6,
   "id": "7d7a353c",
   "metadata": {},
   "outputs": [],
   "source": [
    "agent.update_config(env, CONFIG)"
   ]
  },
  {
   "cell_type": "code",
   "execution_count": 7,
   "id": "7b91f131",
   "metadata": {},
   "outputs": [],
   "source": [
    "def to_dictionary(state):\n",
    "    first_supplier = state[0:1]\n",
    "    second_supplier = state[1:6]\n",
    "    inventory = state[-1]\n",
    "    return {'first_supplier': first_supplier, 'second_supplier': second_supplier, 'inventory':inventory}"
   ]
  },
  {
   "cell_type": "markdown",
   "id": "ea1f9b45",
   "metadata": {},
   "source": [
    "### TBS Agent"
   ]
  },
  {
   "cell_type": "code",
   "execution_count": 8,
   "id": "79984908",
   "metadata": {},
   "outputs": [
    {
     "name": "stdout",
     "output_type": "stream",
     "text": [
      "Time Step: 0\n",
      "State, Agent Action: (array([0, 0, 0, 0, 0, 0, 0]), array([14,  5]))\n",
      "State after adjusting for new product: [14  0  0  0  0  5  0]\n",
      "New State, Reward, Info: (array([14,  0,  0,  0,  0,  5,  0]), -2235.0, {'demand': 10})\n",
      "Time Step: 1\n",
      "State, Agent Action: (array([14,  0,  0,  0,  0,  5,  0]), array([14,  5]))\n",
      "State after adjusting for new product: [14  0  0  0  5  5 14]\n",
      "New State, Reward, Info: (array([14,  0,  0,  0,  5,  5,  4]), -239.0, {'demand': 10})\n",
      "Time Step: 2\n",
      "State, Agent Action: (array([14,  0,  0,  0,  5,  5,  4]), array([14,  1]))\n",
      "State after adjusting for new product: [14  0  0  5  5  1 18]\n",
      "New State, Reward, Info: (array([14,  0,  0,  5,  5,  1,  8]), -223.0, {'demand': 10})\n",
      "Time Step: 3\n",
      "State, Agent Action: (array([14,  0,  0,  5,  5,  1,  8]), array([14,  0]))\n",
      "State after adjusting for new product: [14  0  5  5  1  0 22]\n",
      "New State, Reward, Info: (array([14,  0,  5,  5,  1,  0, 12]), -222.0, {'demand': 10})\n",
      "Time Step: 4\n",
      "State, Agent Action: (array([14,  0,  5,  5,  1,  0, 12]), array([14,  0]))\n",
      "State after adjusting for new product: [14  5  5  1  0  0 26]\n",
      "New State, Reward, Info: (array([14,  5,  5,  1,  0,  0, 16]), -226.0, {'demand': 10})\n",
      "Time Step: 5\n",
      "State, Agent Action: (array([14,  5,  5,  1,  0,  0, 16]), array([14,  0]))\n",
      "State after adjusting for new product: [14  5  1  0  0  0 35]\n",
      "New State, Reward, Info: (array([14,  5,  1,  0,  0,  0, 25]), -235.0, {'demand': 10})\n",
      "Time Step: 6\n",
      "State, Agent Action: (array([14,  5,  1,  0,  0,  0, 25]), array([14,  0]))\n",
      "State after adjusting for new product: [14  1  0  0  0  0 44]\n",
      "New State, Reward, Info: (array([14,  1,  0,  0,  0,  0, 34]), -244.0, {'demand': 10})\n",
      "Time Step: 7\n",
      "State, Agent Action: (array([14,  1,  0,  0,  0,  0, 34]), array([14,  0]))\n",
      "State after adjusting for new product: [14  0  0  0  0  0 49]\n",
      "New State, Reward, Info: (array([14,  0,  0,  0,  0,  0, 39]), -249.0, {'demand': 10})\n",
      "Time Step: 8\n",
      "State, Agent Action: (array([14,  0,  0,  0,  0,  0, 39]), array([14,  0]))\n",
      "State after adjusting for new product: [14  0  0  0  0  0 53]\n",
      "New State, Reward, Info: (array([14,  0,  0,  0,  0,  0, 43]), -253.0, {'demand': 10})\n",
      "Time Step: 9\n",
      "State, Agent Action: (array([14,  0,  0,  0,  0,  0, 43]), array([14,  0]))\n",
      "State after adjusting for new product: [14  0  0  0  0  0 57]\n",
      "New State, Reward, Info: (array([14,  0,  0,  0,  0,  0, 47]), -257.0, {'demand': 10})\n"
     ]
    }
   ],
   "source": [
    "env.reset()\n",
    "state = env.state\n",
    "for t in range(10):\n",
    "    print(f'Time Step: {t}')\n",
    "    action = agent.pick_action(state, t)\n",
    "    print(f'State, Agent Action: {state, action}')\n",
    "    state, reward, done, info = env.step(action)\n",
    "    print(f'New State, Reward, Info: {state, reward, info}')"
   ]
  },
  {
   "cell_type": "markdown",
   "id": "096a268a",
   "metadata": {},
   "source": [
    "### Always Zero"
   ]
  },
  {
   "cell_type": "code",
   "execution_count": 9,
   "id": "6129cb45",
   "metadata": {},
   "outputs": [
    {
     "name": "stdout",
     "output_type": "stream",
     "text": [
      "Time Step: 0\n",
      "State, Agent Action: (array([0, 0, 0, 0, 0, 0, 0]), array([0, 0]))\n",
      "State after adjusting for new product: [0 0 0 0 0 0 0]\n",
      "New State, Reward, Info: (array([0, 0, 0, 0, 0, 0, 0]), -2000.0, {'demand': 10})\n",
      "Time Step: 1\n",
      "State, Agent Action: (array([0, 0, 0, 0, 0, 0, 0]), array([0, 0]))\n",
      "State after adjusting for new product: [0 0 0 0 0 0 0]\n",
      "New State, Reward, Info: (array([0, 0, 0, 0, 0, 0, 0]), -2000.0, {'demand': 10})\n",
      "Time Step: 2\n",
      "State, Agent Action: (array([0, 0, 0, 0, 0, 0, 0]), array([0, 0]))\n",
      "State after adjusting for new product: [0 0 0 0 0 0 0]\n",
      "New State, Reward, Info: (array([0, 0, 0, 0, 0, 0, 0]), -2000.0, {'demand': 10})\n",
      "Time Step: 3\n",
      "State, Agent Action: (array([0, 0, 0, 0, 0, 0, 0]), array([0, 0]))\n",
      "State after adjusting for new product: [0 0 0 0 0 0 0]\n",
      "New State, Reward, Info: (array([0, 0, 0, 0, 0, 0, 0]), -2000.0, {'demand': 10})\n",
      "Time Step: 4\n",
      "State, Agent Action: (array([0, 0, 0, 0, 0, 0, 0]), array([0, 0]))\n",
      "State after adjusting for new product: [0 0 0 0 0 0 0]\n",
      "New State, Reward, Info: (array([0, 0, 0, 0, 0, 0, 0]), -2000.0, {'demand': 10})\n",
      "Time Step: 5\n",
      "State, Agent Action: (array([0, 0, 0, 0, 0, 0, 0]), array([0, 0]))\n",
      "State after adjusting for new product: [0 0 0 0 0 0 0]\n",
      "New State, Reward, Info: (array([0, 0, 0, 0, 0, 0, 0]), -2000.0, {'demand': 10})\n",
      "Time Step: 6\n",
      "State, Agent Action: (array([0, 0, 0, 0, 0, 0, 0]), array([0, 0]))\n",
      "State after adjusting for new product: [0 0 0 0 0 0 0]\n",
      "New State, Reward, Info: (array([0, 0, 0, 0, 0, 0, 0]), -2000.0, {'demand': 10})\n",
      "Time Step: 7\n",
      "State, Agent Action: (array([0, 0, 0, 0, 0, 0, 0]), array([0, 0]))\n",
      "State after adjusting for new product: [0 0 0 0 0 0 0]\n",
      "New State, Reward, Info: (array([0, 0, 0, 0, 0, 0, 0]), -2000.0, {'demand': 10})\n",
      "Time Step: 8\n",
      "State, Agent Action: (array([0, 0, 0, 0, 0, 0, 0]), array([0, 0]))\n",
      "State after adjusting for new product: [0 0 0 0 0 0 0]\n",
      "New State, Reward, Info: (array([0, 0, 0, 0, 0, 0, 0]), -2000.0, {'demand': 10})\n",
      "Time Step: 9\n",
      "State, Agent Action: (array([0, 0, 0, 0, 0, 0, 0]), array([0, 0]))\n",
      "State after adjusting for new product: [0 0 0 0 0 0 0]\n",
      "New State, Reward, Info: (array([0, 0, 0, 0, 0, 0, 0]), -2000.0, {'demand': 10})\n"
     ]
    }
   ],
   "source": [
    "env.reset()\n",
    "state = env.state\n",
    "for t in range(10):\n",
    "    print(f'Time Step: {t}')\n",
    "    action = np.asarray([0,0])\n",
    "    print(f'State, Agent Action: {state, action}')\n",
    "    state, reward, done, info = env.step(action)\n",
    "    print(f'New State, Reward, Info: {state, reward, info}')\n",
    "    "
   ]
  },
  {
   "cell_type": "markdown",
   "id": "077adeeb",
   "metadata": {},
   "source": [
    "### 10 from supplier 1"
   ]
  },
  {
   "cell_type": "code",
   "execution_count": 10,
   "id": "6d56735d",
   "metadata": {},
   "outputs": [
    {
     "name": "stdout",
     "output_type": "stream",
     "text": [
      "Time Step: 0\n",
      "State, Agent Action: (array([0, 0, 0, 0, 0, 0, 0]), array([10,  0]))\n",
      "State after adjusting for new product: [10  0  0  0  0  0  0]\n",
      "New State, Reward, Info: (array([10,  0,  0,  0,  0,  0,  0]), -2150.0, {'demand': 10})\n",
      "Time Step: 1\n",
      "State, Agent Action: (array([10,  0,  0,  0,  0,  0,  0]), array([10,  0]))\n",
      "State after adjusting for new product: [10  0  0  0  0  0 10]\n",
      "New State, Reward, Info: (array([10,  0,  0,  0,  0,  0,  0]), -150.0, {'demand': 10})\n",
      "Time Step: 2\n",
      "State, Agent Action: (array([10,  0,  0,  0,  0,  0,  0]), array([10,  0]))\n",
      "State after adjusting for new product: [10  0  0  0  0  0 10]\n",
      "New State, Reward, Info: (array([10,  0,  0,  0,  0,  0,  0]), -150.0, {'demand': 10})\n",
      "Time Step: 3\n",
      "State, Agent Action: (array([10,  0,  0,  0,  0,  0,  0]), array([10,  0]))\n",
      "State after adjusting for new product: [10  0  0  0  0  0 10]\n",
      "New State, Reward, Info: (array([10,  0,  0,  0,  0,  0,  0]), -150.0, {'demand': 10})\n",
      "Time Step: 4\n",
      "State, Agent Action: (array([10,  0,  0,  0,  0,  0,  0]), array([10,  0]))\n",
      "State after adjusting for new product: [10  0  0  0  0  0 10]\n",
      "New State, Reward, Info: (array([10,  0,  0,  0,  0,  0,  0]), -150.0, {'demand': 10})\n",
      "Time Step: 5\n",
      "State, Agent Action: (array([10,  0,  0,  0,  0,  0,  0]), array([10,  0]))\n",
      "State after adjusting for new product: [10  0  0  0  0  0 10]\n",
      "New State, Reward, Info: (array([10,  0,  0,  0,  0,  0,  0]), -150.0, {'demand': 10})\n",
      "Time Step: 6\n",
      "State, Agent Action: (array([10,  0,  0,  0,  0,  0,  0]), array([10,  0]))\n",
      "State after adjusting for new product: [10  0  0  0  0  0 10]\n",
      "New State, Reward, Info: (array([10,  0,  0,  0,  0,  0,  0]), -150.0, {'demand': 10})\n",
      "Time Step: 7\n",
      "State, Agent Action: (array([10,  0,  0,  0,  0,  0,  0]), array([10,  0]))\n",
      "State after adjusting for new product: [10  0  0  0  0  0 10]\n",
      "New State, Reward, Info: (array([10,  0,  0,  0,  0,  0,  0]), -150.0, {'demand': 10})\n",
      "Time Step: 8\n",
      "State, Agent Action: (array([10,  0,  0,  0,  0,  0,  0]), array([10,  0]))\n",
      "State after adjusting for new product: [10  0  0  0  0  0 10]\n",
      "New State, Reward, Info: (array([10,  0,  0,  0,  0,  0,  0]), -150.0, {'demand': 10})\n",
      "Time Step: 9\n",
      "State, Agent Action: (array([10,  0,  0,  0,  0,  0,  0]), array([10,  0]))\n",
      "State after adjusting for new product: [10  0  0  0  0  0 10]\n",
      "New State, Reward, Info: (array([10,  0,  0,  0,  0,  0,  0]), -150.0, {'demand': 10})\n"
     ]
    }
   ],
   "source": [
    "env.reset()\n",
    "state = env.state\n",
    "for t in range(10):\n",
    "    print(f'Time Step: {t}')\n",
    "    action = np.asarray([10,0])\n",
    "    print(f'State, Agent Action: {state, action}')\n",
    "    state, reward, done, info = env.step(action)\n",
    "    print(f'New State, Reward, Info: {state, reward, info}')"
   ]
  },
  {
   "cell_type": "markdown",
   "id": "7fe6f1c8",
   "metadata": {},
   "source": [
    "### 10 from supplier 2"
   ]
  },
  {
   "cell_type": "code",
   "execution_count": 11,
   "id": "861b7a96",
   "metadata": {},
   "outputs": [
    {
     "name": "stdout",
     "output_type": "stream",
     "text": [
      "Time Step: 0\n",
      "State, Agent Action: (array([0, 0, 0, 0, 0, 0, 0]), array([ 0, 10]))\n",
      "State after adjusting for new product: [ 0  0  0  0  0 10  0]\n",
      "New State, Reward, Info: (array([ 0,  0,  0,  0,  0, 10,  0]), -2050.0, {'demand': 10})\n",
      "Time Step: 1\n",
      "State, Agent Action: (array([ 0,  0,  0,  0,  0, 10,  0]), array([ 0, 10]))\n",
      "State after adjusting for new product: [ 0  0  0  0 10 10  0]\n",
      "New State, Reward, Info: (array([ 0,  0,  0,  0, 10, 10,  0]), -2050.0, {'demand': 10})\n",
      "Time Step: 2\n",
      "State, Agent Action: (array([ 0,  0,  0,  0, 10, 10,  0]), array([ 0, 10]))\n",
      "State after adjusting for new product: [ 0  0  0 10 10 10  0]\n",
      "New State, Reward, Info: (array([ 0,  0,  0, 10, 10, 10,  0]), -2050.0, {'demand': 10})\n",
      "Time Step: 3\n",
      "State, Agent Action: (array([ 0,  0,  0, 10, 10, 10,  0]), array([ 0, 10]))\n",
      "State after adjusting for new product: [ 0  0 10 10 10 10  0]\n",
      "New State, Reward, Info: (array([ 0,  0, 10, 10, 10, 10,  0]), -2050.0, {'demand': 10})\n",
      "Time Step: 4\n",
      "State, Agent Action: (array([ 0,  0, 10, 10, 10, 10,  0]), array([ 0, 10]))\n",
      "State after adjusting for new product: [ 0 10 10 10 10 10  0]\n",
      "New State, Reward, Info: (array([ 0, 10, 10, 10, 10, 10,  0]), -2050.0, {'demand': 10})\n",
      "Time Step: 5\n",
      "State, Agent Action: (array([ 0, 10, 10, 10, 10, 10,  0]), array([ 0, 10]))\n",
      "State after adjusting for new product: [ 0 10 10 10 10 10 10]\n",
      "New State, Reward, Info: (array([ 0, 10, 10, 10, 10, 10,  0]), -50.0, {'demand': 10})\n",
      "Time Step: 6\n",
      "State, Agent Action: (array([ 0, 10, 10, 10, 10, 10,  0]), array([ 0, 10]))\n",
      "State after adjusting for new product: [ 0 10 10 10 10 10 10]\n",
      "New State, Reward, Info: (array([ 0, 10, 10, 10, 10, 10,  0]), -50.0, {'demand': 10})\n",
      "Time Step: 7\n",
      "State, Agent Action: (array([ 0, 10, 10, 10, 10, 10,  0]), array([ 0, 10]))\n",
      "State after adjusting for new product: [ 0 10 10 10 10 10 10]\n",
      "New State, Reward, Info: (array([ 0, 10, 10, 10, 10, 10,  0]), -50.0, {'demand': 10})\n",
      "Time Step: 8\n",
      "State, Agent Action: (array([ 0, 10, 10, 10, 10, 10,  0]), array([ 0, 10]))\n",
      "State after adjusting for new product: [ 0 10 10 10 10 10 10]\n",
      "New State, Reward, Info: (array([ 0, 10, 10, 10, 10, 10,  0]), -50.0, {'demand': 10})\n",
      "Time Step: 9\n",
      "State, Agent Action: (array([ 0, 10, 10, 10, 10, 10,  0]), array([ 0, 10]))\n",
      "State after adjusting for new product: [ 0 10 10 10 10 10 10]\n",
      "New State, Reward, Info: (array([ 0, 10, 10, 10, 10, 10,  0]), -50.0, {'demand': 10})\n",
      "Time Step: 10\n",
      "State, Agent Action: (array([ 0, 10, 10, 10, 10, 10,  0]), array([ 0, 10]))\n",
      "State after adjusting for new product: [ 0 10 10 10 10 10 10]\n",
      "New State, Reward, Info: (array([ 0, 10, 10, 10, 10, 10,  0]), -50.0, {'demand': 10})\n",
      "Time Step: 11\n",
      "State, Agent Action: (array([ 0, 10, 10, 10, 10, 10,  0]), array([ 0, 10]))\n",
      "State after adjusting for new product: [ 0 10 10 10 10 10 10]\n",
      "New State, Reward, Info: (array([ 0, 10, 10, 10, 10, 10,  0]), -50.0, {'demand': 10})\n",
      "Time Step: 12\n",
      "State, Agent Action: (array([ 0, 10, 10, 10, 10, 10,  0]), array([ 0, 10]))\n",
      "State after adjusting for new product: [ 0 10 10 10 10 10 10]\n",
      "New State, Reward, Info: (array([ 0, 10, 10, 10, 10, 10,  0]), -50.0, {'demand': 10})\n",
      "Time Step: 13\n",
      "State, Agent Action: (array([ 0, 10, 10, 10, 10, 10,  0]), array([ 0, 10]))\n",
      "State after adjusting for new product: [ 0 10 10 10 10 10 10]\n",
      "New State, Reward, Info: (array([ 0, 10, 10, 10, 10, 10,  0]), -50.0, {'demand': 10})\n",
      "Time Step: 14\n",
      "State, Agent Action: (array([ 0, 10, 10, 10, 10, 10,  0]), array([ 0, 10]))\n",
      "State after adjusting for new product: [ 0 10 10 10 10 10 10]\n",
      "New State, Reward, Info: (array([ 0, 10, 10, 10, 10, 10,  0]), -50.0, {'demand': 10})\n"
     ]
    }
   ],
   "source": [
    "env.reset()\n",
    "state = env.state\n",
    "for t in range(15):\n",
    "    print(f'Time Step: {t}')\n",
    "    action = np.asarray([0,10])\n",
    "    print(f'State, Agent Action: {state, action}')\n",
    "    state, reward, done, info = env.step(action)\n",
    "    print(f'New State, Reward, Info: {state, reward, info}')"
   ]
  }
 ],
 "metadata": {
  "kernelspec": {
   "display_name": "Python 3 (ipykernel)",
   "language": "python",
   "name": "python3"
  },
  "language_info": {
   "codemirror_mode": {
    "name": "ipython",
    "version": 3
   },
   "file_extension": ".py",
   "mimetype": "text/x-python",
   "name": "python",
   "nbconvert_exporter": "python",
   "pygments_lexer": "ipython3",
   "version": "3.7.11"
  }
 },
 "nbformat": 4,
 "nbformat_minor": 5
}
