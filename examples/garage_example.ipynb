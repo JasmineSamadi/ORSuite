{
 "cells": [
  {
   "cell_type": "code",
   "execution_count": 1,
   "id": "f74f060c",
   "metadata": {},
   "outputs": [
    {
     "name": "stderr",
     "output_type": "stream",
     "text": [
      "2022-02-07 16:37:30.166854: W tensorflow/stream_executor/platform/default/dso_loader.cc:64] Could not load dynamic library 'libcudart.so.11.0'; dlerror: libcudart.so.11.0: cannot open shared object file: No such file or directory; LD_LIBRARY_PATH: :/opt/gurobi912/linux64/lib\n",
      "2022-02-07 16:37:30.166874: I tensorflow/stream_executor/cuda/cudart_stub.cc:29] Ignore above cudart dlerror if you do not have a GPU set up on your machine.\n"
     ]
    }
   ],
   "source": [
    "import torch\n",
    "import or_suite\n",
    "import gym\n",
    "from garage import wrap_experiment\n",
    "from garage.envs import GymEnv, normalize\n",
    "from garage.experiment.deterministic import set_seed\n",
    "from garage.experiment import deterministic\n",
    "from garage.sampler import LocalSampler\n",
    "from garage.torch.algos import TRPO as PyTorch_TRPO\n",
    "from garage.torch.policies import GaussianMLPPolicy\n",
    "from garage.torch.value_functions import GaussianMLPValueFunction\n",
    "from garage.trainer import Trainer"
   ]
  },
  {
   "cell_type": "code",
   "execution_count": null,
   "id": "66b6b5c9",
   "metadata": {},
   "outputs": [],
   "source": []
  },
  {
   "cell_type": "markdown",
   "id": "9b44d7cd",
   "metadata": {},
   "source": [
    "Generic packages.  Expect some 'warnings' because you have no GPU"
   ]
  },
  {
   "cell_type": "code",
   "execution_count": 2,
   "id": "decd5ce4",
   "metadata": {},
   "outputs": [],
   "source": [
    "hyper_parameters = {\n",
    "    'hidden_sizes': [32, 32], # neural network parameters\n",
    "    'max_kl': 0.01, # \"essentially\" some function of the policy regularization\n",
    "    'gae_lambda': 0.97, # no clue\n",
    "    'discount': 0.99, # Oh, this will do infinite horizon with discount instead of finite horizon\n",
    "    'n_epochs': 999, # num episodes\n",
    "    'batch_size': 1024, # batches used for computing gradient steps\n",
    "}"
   ]
  },
  {
   "cell_type": "code",
   "execution_count": 6,
   "id": "d70abe93",
   "metadata": {},
   "outputs": [
    {
     "data": {
      "text/plain": [
       "500"
      ]
     },
     "execution_count": 6,
     "metadata": {},
     "output_type": "execute_result"
    }
   ],
   "source": [
    "CONFIG =  or_suite.envs.env_configs.ambulance_metric_default_config\n",
    "CONFIG['epLen'] = 500\n",
    "env = gym.make('Ambulance-v0', config=CONFIG)\n",
    "env._max_episode_length"
   ]
  },
  {
   "cell_type": "code",
   "execution_count": 7,
   "id": "6e0b0555",
   "metadata": {},
   "outputs": [],
   "source": [
    "@wrap_experiment\n",
    "def trpo_ambulance(ctxt=None, seed=1):\n",
    "    \"\"\"Train TRPO with MultipleSuppliers-v0 environment.\n",
    "    Args:\n",
    "        ctxt (garage.experiment.ExperimentContext): The experiment\n",
    "            configuration used by Trainer to create the snapshotter.\n",
    "        seed (int): Used to seed the random number generator to produce\n",
    "            determinism.\n",
    "    \"\"\"\n",
    "    set_seed(seed)\n",
    "    CONFIG =  or_suite.envs.env_configs.ambulance_metric_default_config\n",
    "    CONFIG['epLen'] = 500\n",
    "    env = gym.make('Ambulance-v0', config=CONFIG)\n",
    "    env = GymEnv(env)\n",
    "\n",
    "    trainer = Trainer(ctxt)\n",
    "\n",
    "    policy = GaussianMLPPolicy(env.spec,\n",
    "                               hidden_sizes=[32, 32],\n",
    "                               hidden_nonlinearity=torch.tanh,\n",
    "                               output_nonlinearity=None)\n",
    "    print(env.spec.max_episode_length)\n",
    "\n",
    "    value_function = GaussianMLPValueFunction(env_spec=env.spec,\n",
    "                                              hidden_sizes=(32, 32),\n",
    "                                              hidden_nonlinearity=torch.tanh,\n",
    "                                              output_nonlinearity=None)\n",
    "    sampler = LocalSampler(agents=policy,\n",
    "                           envs=env,\n",
    "                           max_episode_length=env.spec.max_episode_length)\n",
    "\n",
    "    algo = TRPO(env_spec=env.spec,\n",
    "                policy=policy,\n",
    "                value_function=value_function,\n",
    "                sampler=sampler,\n",
    "                discount=0.99,\n",
    "                center_adv=False)\n",
    "\n",
    "    trainer.setup(algo, env)\n",
    "    trainer.train(n_epochs=100, batch_size=1024)"
   ]
  },
  {
   "cell_type": "code",
   "execution_count": null,
   "id": "c31223e2",
   "metadata": {},
   "outputs": [],
   "source": []
  },
  {
   "cell_type": "code",
   "execution_count": 8,
   "id": "a2a7358d",
   "metadata": {
    "scrolled": true
   },
   "outputs": [
    {
     "name": "stdout",
     "output_type": "stream",
     "text": [
      "2022-02-07 16:38:01 | [trpo_ambulance] [trpo_ambulance] Logging to /home/sean/Programming/ORSuite/examples/data/local/experiment/trpo_ambulance_2\n",
      "2022-02-07 16:38:01 | [trpo_ambulance] [trpo_ambulance] Logging to /home/sean/Programming/ORSuite/examples/data/local/experiment/trpo_ambulance_2\n",
      "None\n"
     ]
    },
    {
     "ename": "TypeError",
     "evalue": "Must construct a sampler from WorkerFactory orparameters (at least max_episode_length)",
     "output_type": "error",
     "traceback": [
      "\u001b[0;31m---------------------------------------------------------------------------\u001b[0m",
      "\u001b[0;31mTypeError\u001b[0m                                 Traceback (most recent call last)",
      "Input \u001b[0;32mIn [8]\u001b[0m, in \u001b[0;36m<module>\u001b[0;34m\u001b[0m\n\u001b[0;32m----> 1\u001b[0m \u001b[43mtrpo_ambulance\u001b[49m\u001b[43m(\u001b[49m\u001b[43mseed\u001b[49m\u001b[43m \u001b[49m\u001b[38;5;241;43m=\u001b[39;49m\u001b[43m \u001b[49m\u001b[38;5;241;43m1\u001b[39;49m\u001b[43m)\u001b[49m\n",
      "File \u001b[0;32m~/.local/lib/python3.8/site-packages/garage/experiment/experiment.py:369\u001b[0m, in \u001b[0;36mExperimentTemplate.__call__\u001b[0;34m(self, *args, **kwargs)\u001b[0m\n\u001b[1;32m    367\u001b[0m \u001b[38;5;28;01melse\u001b[39;00m:\n\u001b[1;32m    368\u001b[0m     ctxt \u001b[38;5;241m=\u001b[39m \u001b[38;5;28mself\u001b[39m\u001b[38;5;241m.\u001b[39m_make_context(\u001b[38;5;28mself\u001b[39m\u001b[38;5;241m.\u001b[39m_get_options(\u001b[38;5;241m*\u001b[39margs), \u001b[38;5;241m*\u001b[39m\u001b[38;5;241m*\u001b[39mkwargs)\n\u001b[0;32m--> 369\u001b[0m     result \u001b[38;5;241m=\u001b[39m \u001b[38;5;28;43mself\u001b[39;49m\u001b[38;5;241;43m.\u001b[39;49m\u001b[43mfunction\u001b[49m\u001b[43m(\u001b[49m\u001b[43mctxt\u001b[49m\u001b[43m,\u001b[49m\u001b[43m \u001b[49m\u001b[38;5;241;43m*\u001b[39;49m\u001b[38;5;241;43m*\u001b[39;49m\u001b[43mkwargs\u001b[49m\u001b[43m)\u001b[49m\n\u001b[1;32m    370\u001b[0m     logger\u001b[38;5;241m.\u001b[39mremove_all()\n\u001b[1;32m    371\u001b[0m     logger\u001b[38;5;241m.\u001b[39mpop_prefix()\n",
      "Input \u001b[0;32mIn [7]\u001b[0m, in \u001b[0;36mtrpo_ambulance\u001b[0;34m(ctxt, seed)\u001b[0m\n\u001b[1;32m     22\u001b[0m \u001b[38;5;28mprint\u001b[39m(env\u001b[38;5;241m.\u001b[39mspec\u001b[38;5;241m.\u001b[39mmax_episode_length)\n\u001b[1;32m     24\u001b[0m value_function \u001b[38;5;241m=\u001b[39m GaussianMLPValueFunction(env_spec\u001b[38;5;241m=\u001b[39menv\u001b[38;5;241m.\u001b[39mspec,\n\u001b[1;32m     25\u001b[0m                                           hidden_sizes\u001b[38;5;241m=\u001b[39m(\u001b[38;5;241m32\u001b[39m, \u001b[38;5;241m32\u001b[39m),\n\u001b[1;32m     26\u001b[0m                                           hidden_nonlinearity\u001b[38;5;241m=\u001b[39mtorch\u001b[38;5;241m.\u001b[39mtanh,\n\u001b[1;32m     27\u001b[0m                                           output_nonlinearity\u001b[38;5;241m=\u001b[39m\u001b[38;5;28;01mNone\u001b[39;00m)\n\u001b[0;32m---> 28\u001b[0m sampler \u001b[38;5;241m=\u001b[39m \u001b[43mLocalSampler\u001b[49m\u001b[43m(\u001b[49m\u001b[43magents\u001b[49m\u001b[38;5;241;43m=\u001b[39;49m\u001b[43mpolicy\u001b[49m\u001b[43m,\u001b[49m\n\u001b[1;32m     29\u001b[0m \u001b[43m                       \u001b[49m\u001b[43menvs\u001b[49m\u001b[38;5;241;43m=\u001b[39;49m\u001b[43menv\u001b[49m\u001b[43m,\u001b[49m\n\u001b[1;32m     30\u001b[0m \u001b[43m                       \u001b[49m\u001b[43mmax_episode_length\u001b[49m\u001b[38;5;241;43m=\u001b[39;49m\u001b[43menv\u001b[49m\u001b[38;5;241;43m.\u001b[39;49m\u001b[43mspec\u001b[49m\u001b[38;5;241;43m.\u001b[39;49m\u001b[43mmax_episode_length\u001b[49m\u001b[43m)\u001b[49m\n\u001b[1;32m     32\u001b[0m algo \u001b[38;5;241m=\u001b[39m TRPO(env_spec\u001b[38;5;241m=\u001b[39menv\u001b[38;5;241m.\u001b[39mspec,\n\u001b[1;32m     33\u001b[0m             policy\u001b[38;5;241m=\u001b[39mpolicy,\n\u001b[1;32m     34\u001b[0m             value_function\u001b[38;5;241m=\u001b[39mvalue_function,\n\u001b[1;32m     35\u001b[0m             sampler\u001b[38;5;241m=\u001b[39msampler,\n\u001b[1;32m     36\u001b[0m             discount\u001b[38;5;241m=\u001b[39m\u001b[38;5;241m0.99\u001b[39m,\n\u001b[1;32m     37\u001b[0m             center_adv\u001b[38;5;241m=\u001b[39m\u001b[38;5;28;01mFalse\u001b[39;00m)\n\u001b[1;32m     39\u001b[0m trainer\u001b[38;5;241m.\u001b[39msetup(algo, env)\n",
      "File \u001b[0;32m~/.local/lib/python3.8/site-packages/garage/sampler/local_sampler.py:64\u001b[0m, in \u001b[0;36mLocalSampler.__init__\u001b[0;34m(self, agents, envs, worker_factory, max_episode_length, is_tf_worker, seed, n_workers, worker_class, worker_args)\u001b[0m\n\u001b[1;32m     50\u001b[0m \u001b[38;5;28;01mdef\u001b[39;00m \u001b[38;5;21m__init__\u001b[39m(\n\u001b[1;32m     51\u001b[0m         \u001b[38;5;28mself\u001b[39m,\n\u001b[1;32m     52\u001b[0m         agents,\n\u001b[0;32m   (...)\u001b[0m\n\u001b[1;32m     61\u001b[0m         worker_args\u001b[38;5;241m=\u001b[39m\u001b[38;5;28;01mNone\u001b[39;00m):\n\u001b[1;32m     62\u001b[0m     \u001b[38;5;66;03m# pylint: disable=super-init-not-called\u001b[39;00m\n\u001b[1;32m     63\u001b[0m     \u001b[38;5;28;01mif\u001b[39;00m worker_factory \u001b[38;5;129;01mis\u001b[39;00m \u001b[38;5;28;01mNone\u001b[39;00m \u001b[38;5;129;01mand\u001b[39;00m max_episode_length \u001b[38;5;129;01mis\u001b[39;00m \u001b[38;5;28;01mNone\u001b[39;00m:\n\u001b[0;32m---> 64\u001b[0m         \u001b[38;5;28;01mraise\u001b[39;00m \u001b[38;5;167;01mTypeError\u001b[39;00m(\u001b[38;5;124m'\u001b[39m\u001b[38;5;124mMust construct a sampler from WorkerFactory or\u001b[39m\u001b[38;5;124m'\u001b[39m\n\u001b[1;32m     65\u001b[0m                         \u001b[38;5;124m'\u001b[39m\u001b[38;5;124mparameters (at least max_episode_length)\u001b[39m\u001b[38;5;124m'\u001b[39m)\n\u001b[1;32m     66\u001b[0m     \u001b[38;5;28;01mif\u001b[39;00m \u001b[38;5;28misinstance\u001b[39m(worker_factory, WorkerFactory):\n\u001b[1;32m     67\u001b[0m         \u001b[38;5;28mself\u001b[39m\u001b[38;5;241m.\u001b[39m_factory \u001b[38;5;241m=\u001b[39m worker_factory\n",
      "\u001b[0;31mTypeError\u001b[0m: Must construct a sampler from WorkerFactory orparameters (at least max_episode_length)"
     ]
    }
   ],
   "source": [
    "trpo_ambulance(seed = 1)"
   ]
  }
 ],
 "metadata": {
  "kernelspec": {
   "display_name": "Python 3 (ipykernel)",
   "language": "python",
   "name": "python3"
  },
  "language_info": {
   "codemirror_mode": {
    "name": "ipython",
    "version": 3
   },
   "file_extension": ".py",
   "mimetype": "text/x-python",
   "name": "python",
   "nbconvert_exporter": "python",
   "pygments_lexer": "ipython3",
   "version": "3.8.5"
  }
 },
 "nbformat": 4,
 "nbformat_minor": 5
}
