{
 "cells": [
  {
   "cell_type": "code",
   "execution_count": null,
   "metadata": {},
   "outputs": [],
   "source": [
    "import or_suite\n",
    "import numpy as np\n",
    "\n",
    "import copy\n",
    "\n",
    "import os\n",
    "from stable_baselines3.common.monitor import Monitor\n",
    "from stable_baselines3 import PPO\n",
    "from stable_baselines3.ppo import MlpPolicy\n",
    "from stable_baselines3.common.env_util import make_vec_env\n",
    "from stable_baselines3.common.evaluation import evaluate_policy\n",
    "import pandas as pd\n",
    "\n",
    "\n",
    "import gym"
   ]
  },
  {
   "cell_type": "markdown",
   "metadata": {},
   "source": [
    "## Set Global Parameters for Experiments"
   ]
  },
  {
   "cell_type": "code",
   "execution_count": null,
   "metadata": {},
   "outputs": [],
   "source": [
    "neg_inventory = False\n",
    "epLen = 2\n",
    "nEps = 200\n",
    "numIters = 10"
   ]
  },
  {
   "cell_type": "markdown",
   "metadata": {},
   "source": [
    "## Iterating over Parameters 2 Suppliers"
   ]
  },
  {
   "cell_type": "code",
   "execution_count": null,
   "metadata": {},
   "outputs": [],
   "source": [
    "CONFIG =  or_suite.envs.env_configs.inventory_control_multiple_suppliers_modified_config"
   ]
  },
  {
   "cell_type": "code",
   "execution_count": null,
   "metadata": {},
   "outputs": [],
   "source": [
    "DEFAULT_SETTINGS = {'seed': 1, \n",
    "                    'recFreq': 1, \n",
    "                    'dirPath': '../data/ambulance/', \n",
    "                    'deBug': False, \n",
    "                    'nEps': nEps, \n",
    "                    'numIters': numIters, \n",
    "                    'saveTrajectory': True, \n",
    "                    'epLen' : CONFIG['epLen'],\n",
    "                    'render': False,\n",
    "                    'pickle': False\n",
    "                    }\n",
    "\n"
   ]
  },
  {
   "cell_type": "code",
   "execution_count": null,
   "metadata": {},
   "outputs": [],
   "source": [
    "for demand in range(1,21):\n",
    "    for backorder in range (50,201):\n",
    "        for holdcost in range(1,21):\n",
    "            print('demand:' + str(demand))\n",
    "            print('backorder:' + str(backorder))\n",
    "            print('holdcost:' + str(holdcost))\n",
    "            CONFIG['demand_dist'] = lambda x: np.random.poisson(demand)\n",
    "            CONFIG['backorder_cost'] = backorder\n",
    "            CONFIG['hold_cost'] = holdcost\n",
    "            env = gym.make('MultipleSuppliers-v0', config=CONFIG)\n",
    "            mon_env = Monitor(env)\n",
    "            agents = { # 'SB PPO': PPO(MlpPolicy, mon_env, gamma=1, verbose=0, n_steps=epLen),\n",
    "            #'Random': or_suite.agents.rl.random.randomAgent(),\n",
    "            #'TBSOne': or_suite.agents.inventory_control_multiple_suppliers.base_surge.base_surgeAgent([0],10),\n",
    "            #'TBSTwo': or_suite.agents.inventory_control_multiple_suppliers.base_surge.base_surgeAgent([10],0),\n",
    "            'TBS': or_suite.agents.inventory_control_multiple_suppliers.base_surge.base_surgeAgent([0],0)\n",
    "            }\n",
    "            path_list_line = []\n",
    "            algo_list_line = []\n",
    "            path_list_radar = []\n",
    "            algo_list_radar= []\n",
    "\n",
    "            #each index of param_list is another list, param, where param[0] is r and param[1] is S\n",
    "            max_order = CONFIG['max_order']\n",
    "            param_list = []\n",
    "            for r in range(max_order+1):\n",
    "                for S in range(max_order + 1):\n",
    "                    param_list.append([[r],S])\n",
    "            #param_list = [[[10], 0], [[0],10]]\n",
    "\n",
    "            for agent in agents:\n",
    "                print(agent)\n",
    "                DEFAULT_SETTINGS['dirPath'] = '../data/inventory_control_'+str(agent)+'/'\n",
    "                if agent == 'SB PPO':\n",
    "                    or_suite.utils.run_single_sb_algo(mon_env, agents[agent], DEFAULT_SETTINGS)\n",
    "                elif agent == 'TBS':\n",
    "                    or_suite.utils.run_single_algo_tune(env, agents[agent], param_list, DEFAULT_SETTINGS)\n",
    "                else:\n",
    "                    or_suite.utils.run_single_algo(env, agents[agent], DEFAULT_SETTINGS)\n",
    "\n",
    "                path_list_line.append('../data/inventory_control_'+str(agent))\n",
    "                algo_list_line.append(str(agent))\n",
    "                if agent != 'SB PPO':\n",
    "                    path_list_radar.append('../data/inventory_control_'+str(agent))\n",
    "                    algo_list_radar.append(str(agent))"
   ]
  },
  {
   "cell_type": "markdown",
   "metadata": {},
   "source": [
    "## Iterating over Parameters 3 Suppliers"
   ]
  },
  {
   "cell_type": "code",
   "execution_count": null,
   "metadata": {},
   "outputs": [],
   "source": [
    "CONFIG = {'lead_times': [5, 7, 11],\n",
    "           'demand_dist': lambda x: np.random.poisson(17),\n",
    "           'supplier_costs': [100 ,85, 73],\n",
    "           'hold_cost': 1,\n",
    "           'backorder_cost': 200,\n",
    "           'max_inventory': 1000,\n",
    "           'max_order': 20,\n",
    "           'epLen': 500,\n",
    "           'starting_state': None,\n",
    "           'neg_inventory': False\n",
    "         }\n",
    "CONFIG['epLen'] = epLen"
   ]
  },
  {
   "cell_type": "code",
   "execution_count": null,
   "metadata": {},
   "outputs": [],
   "source": [
    "DEFAULT_SETTINGS = {'seed': 1, \n",
    "                    'recFreq': 1, \n",
    "                    'dirPath': '../data/ambulance/', \n",
    "                    'deBug': False, \n",
    "                    'nEps': nEps, \n",
    "                    'numIters': numIters, \n",
    "                    'saveTrajectory': True, \n",
    "                    'epLen' : CONFIG['epLen'],\n",
    "                    'render': False,\n",
    "                    'pickle': False\n",
    "                    }\n",
    "\n"
   ]
  },
  {
   "cell_type": "code",
   "execution_count": null,
   "metadata": {},
   "outputs": [],
   "source": [
    "for demand in range(1,21):\n",
    "    for backorder in range (50,201):\n",
    "        for holdcost in range(1,21):\n",
    "            print('demand:' + str(demand))\n",
    "            print('backorder:' + str(backorder))\n",
    "            print('holdcost:' + str(holdcost))\n",
    "            CONFIG['demand_dist'] = lambda x: np.random.poisson(demand)\n",
    "            CONFIG['backorder_cost'] = backorder\n",
    "            CONFIG['hold_cost'] = holdcost\n",
    "            env = gym.make('MultipleSuppliers-v0', config=CONFIG)\n",
    "            mon_env = Monitor(env)\n",
    "            agents = { # 'SB PPO': PPO(MlpPolicy, mon_env, gamma=1, verbose=0, n_steps=epLen),\n",
    "            #'Random': or_suite.agents.rl.random.randomAgent(),\n",
    "            #'TBSOne': or_suite.agents.inventory_control_multiple_suppliers.base_surge.base_surgeAgent([0],10),\n",
    "            #'TBSTwo': or_suite.agents.inventory_control_multiple_suppliers.base_surge.base_surgeAgent([10],0),\n",
    "            'TBS': or_suite.agents.inventory_control_multiple_suppliers.base_surge.base_surgeAgent([0],0)\n",
    "            }\n",
    "            path_list_line = []\n",
    "            algo_list_line = []\n",
    "            path_list_radar = []\n",
    "            algo_list_radar= []\n",
    "\n",
    "            #each index of param_list is another list, param, where param[0] is r and param[1] is S\n",
    "            max_order = CONFIG['max_order']\n",
    "            param_list = []\n",
    "            for r in range(max_order+1):\n",
    "                for S in range(max_order + 1):\n",
    "                    param_list.append([[r],S])\n",
    "            #param_list = [[[10], 0], [[0],10]]\n",
    "\n",
    "            for agent in agents:\n",
    "                print(agent)\n",
    "                DEFAULT_SETTINGS['dirPath'] = '../data/inventory_control_'+str(agent)+'/'\n",
    "                if agent == 'SB PPO':\n",
    "                    or_suite.utils.run_single_sb_algo(mon_env, agents[agent], DEFAULT_SETTINGS)\n",
    "                elif agent == 'TBS':\n",
    "                    or_suite.utils.run_single_algo_tune(env, agents[agent], param_list, DEFAULT_SETTINGS)\n",
    "                else:\n",
    "                    or_suite.utils.run_single_algo(env, agents[agent], DEFAULT_SETTINGS)\n",
    "\n",
    "                path_list_line.append('../data/inventory_control_'+str(agent))\n",
    "                algo_list_line.append(str(agent))\n",
    "                if agent != 'SB PPO':\n",
    "                    path_list_radar.append('../data/inventory_control_'+str(agent))\n",
    "                    algo_list_radar.append(str(agent))"
   ]
  }
 ],
 "metadata": {
  "kernelspec": {
   "display_name": "Python 3",
   "language": "python",
   "name": "python3"
  },
  "language_info": {
   "codemirror_mode": {
    "name": "ipython",
    "version": 3
   },
   "file_extension": ".py",
   "mimetype": "text/x-python",
   "name": "python",
   "nbconvert_exporter": "python",
   "pygments_lexer": "ipython3",
   "version": "3.8.5"
  }
 },
 "nbformat": 4,
 "nbformat_minor": 2
}
